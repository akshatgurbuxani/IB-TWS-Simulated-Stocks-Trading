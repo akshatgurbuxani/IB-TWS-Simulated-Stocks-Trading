{
 "cells": [
  {
   "cell_type": "markdown",
   "metadata": {},
   "source": [
    "# Import libraries"
   ]
  },
  {
   "cell_type": "code",
   "execution_count": 24,
   "metadata": {
    "tags": []
   },
   "outputs": [],
   "source": [
    "import polars as pl\n",
    "import requests\n",
    "import os"
   ]
  },
  {
   "cell_type": "markdown",
   "metadata": {},
   "source": [
    "# Fetch News Using Alpha Vantage"
   ]
  },
  {
   "cell_type": "code",
   "execution_count": 22,
   "metadata": {
    "tags": []
   },
   "outputs": [],
   "source": [
    "def build_endpoint(stock_ticker, api_key, start_date, end_date=None):\n",
    "    \"\"\"\n",
    "    Constructs the API endpoint for fetching news data.\n",
    "    \"\"\"\n",
    "    base_url = \"https://www.alphavantage.co/query?function=NEWS_SENTIMENT\"\n",
    "    date_from = f\"&time_from={start_date}T0130\"\n",
    "    date_to = f\"&time_to={end_date}T0130\" if end_date else \"\"\n",
    "    limit = \"&limit=1000\"\n",
    "    return f\"{base_url}&tickers={stock_ticker}{date_from}{date_to}{limit}&apikey={api_key}\"\n",
    "\n",
    "def fetch_news_data(stock_ticker, api_key, start_date, end_date=None):\n",
    "    \"\"\"\n",
    "    Makes an API request and returns the response data.\n",
    "    \"\"\"\n",
    "    endpoint = build_endpoint(stock_ticker, api_key, start_date, end_date)\n",
    "    response = requests.get(endpoint)\n",
    "    if response.status_code == 200:\n",
    "        return response.json()\n",
    "    else:\n",
    "        print(f\"Failed to fetch data: {response.status_code}\")\n",
    "        return None\n",
    "\n",
    "def convert_to_dataframe(news_items):\n",
    "    \"\"\"\n",
    "    Converts a list of news items into a Polars DataFrame and extracts the date.\n",
    "    \"\"\"\n",
    "    news_items = news_items.get(\"feed\", [])\n",
    "    if news_items:\n",
    "        df = pl.DataFrame(news_items)\n",
    "        df = df.with_columns(pl.col(\"time_published\").str.slice(0, 10).alias(\"date\"))\n",
    "        return df\n",
    "    return pl.DataFrame()\n",
    "\n",
    "def aggregate_news_data(stock_ticker_list, api_key, start_date, end_date=None):\n",
    "    \"\"\"\n",
    "    Fetches and aggregates news data for multiple stock tickers.\n",
    "    \"\"\"\n",
    "    df_list = []\n",
    "    for stock_ticker in stock_ticker_list:\n",
    "        news_data = fetch_news_data(stock_ticker, api_key, start_date, end_date)\n",
    "        if news_data:\n",
    "            df = convert_to_dataframe(news_data)\n",
    "            df_list.append(df)\n",
    "\n",
    "    return pl.concat(df_list, how='vertical') if df_list else pl.DataFrame()\n",
    "\n",
    "def get_news():\n",
    "    # Top stocks in S & P\n",
    "    stock_ticker_list = ['MSFT', 'AAPL', 'NVDA', 'GOOG', 'AMZN', 'META', 'TSLA', 'LLY', 'JPM', 'WMT']\n",
    "    \n",
    "    \"\"\"\n",
    "    NOTE - Over a few days, we collected and stored data in seperate files due to the API's daily call limits. The commented code details our approach for achieving this.\n",
    "    api_key = input (\"Please provide your Alpha Vantage API key :\") \n",
    "    news_2022 = aggregate_news_data(stock_ticker_list, api_key, '20220101')\n",
    "    news_2023 = aggregate_news_data(stock_ticker_list, api_key, '20230101')\n",
    "    aggr_news_previous = pl.concat([news_2022, news_2023])\n",
    "    aggr_news_previous.write_json('../Data/aggr_news_previous.json')\n",
    "    \"\"\"\n",
    "\n",
    "    api_key = input (\"Please provide your Alpha Vantage API key :\")\n",
    "    news_current_year = aggregate_news_data(stock_ticker_list, api_key, '20230101')\n",
    "\n",
    "    try:\n",
    "        aggr_news_previous = pl.read_json('../Data/aggr_news_previous.json')\n",
    "        aggr_news_final = pl.concat([aggr_news_previous, news_current_year])\n",
    "    except FileNotFoundError:\n",
    "        aggr_news_final = news_current_year\n",
    "\n",
    "    aggr_news_final.write_json('../Data/aggr_news_final.json')\n",
    "    \n",
    "def get_news_yearly(base_dir, year):\n",
    "    stock_ticker_list = ['MSFT', 'AAPL', 'NVDA', 'GOOG', 'AMZN', 'META', 'TSLA', 'LLY', 'JPM', 'AVGO', 'WMT']\n",
    "    \n",
    "    \"\"\"\n",
    "    NOTE - Over a few days, we collected and stored data in seperate files due to the API's daily call limits. The commented code details our approach for achieving this.\n",
    "    api_key = input (\"Please provide your Alpha Vantage API key :\") \n",
    "    news_2022 = aggregate_news_data(stock_ticker_list, api_key, '20220101')\n",
    "    news_2023 = aggregate_news_data(stock_ticker_list, api_key, '20230101')\n",
    "    aggr_news_previous = pl.concat([news_2022, news_2023])\n",
    "    aggr_news_previous.write_json('../Data/aggr_news_previous.json')\n",
    "    \"\"\"\n",
    "\n",
    "    api_key = input (\"Please provide your Alpha Vantage API key :\")\n",
    "    news_current_year = aggregate_news_data(stock_ticker_list, api_key, f'{year}0101')\n",
    "\n",
    "    news_current_year.write_json(f'{base_dir}/aggr_news_{year}.json')\n",
    "    "
   ]
  },
  {
   "cell_type": "code",
   "execution_count": 26,
   "metadata": {
    "tags": []
   },
   "outputs": [
    {
     "name": "stdin",
     "output_type": "stream",
     "text": [
      "Please provide the year in YYYY : 2024\n"
     ]
    }
   ],
   "source": [
    "base_dir = '../Data'\n",
    "year = input (\"Please provide the year in YYYY format:\")\n",
    "get_news_yearly(base_dir, year)"
   ]
  },
  {
   "cell_type": "code",
   "execution_count": 29,
   "metadata": {
    "tags": []
   },
   "outputs": [],
   "source": [
    "# Concatenate the saved data\n",
    "def concat_json(base_dir, list_json_files, save_filename):\n",
    "    \n",
    "    aggr_news_final = pl.DataFrame()\n",
    "    for json_file in list_json_files:\n",
    "        aggr_news_for_year = pl.read_json(os.path.join(base_dir, json_file))\n",
    "        aggr_news_final = pl.concat([aggr_news_final, aggr_news_for_year])\n",
    "        \n",
    "    aggr_news_final.write_json(f'{base_dir}/aggr_news_final.json')"
   ]
  },
  {
   "cell_type": "code",
   "execution_count": 30,
   "metadata": {
    "tags": []
   },
   "outputs": [],
   "source": [
    "list_json_files = ['aggr_news_2022.json', 'aggr_news_2023.json',  'aggr_news_2024.json']\n",
    "concat_json(base_dir, list_json_files, save_filename = \"aggr_news_final.json\")"
   ]
  }
 ],
 "metadata": {
  "kernelspec": {
   "display_name": "trading",
   "language": "python",
   "name": "trading"
  },
  "language_info": {
   "codemirror_mode": {
    "name": "ipython",
    "version": 3
   },
   "file_extension": ".py",
   "mimetype": "text/x-python",
   "name": "python",
   "nbconvert_exporter": "python",
   "pygments_lexer": "ipython3",
   "version": "3.10.14"
  }
 },
 "nbformat": 4,
 "nbformat_minor": 4
}
