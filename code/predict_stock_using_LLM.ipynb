{
 "cells": [
  {
   "cell_type": "markdown",
   "metadata": {},
   "source": [
    "# Import Libraries"
   ]
  },
  {
   "cell_type": "code",
   "execution_count": 2,
   "metadata": {
    "tags": []
   },
   "outputs": [],
   "source": [
    "import yfinance as yf\n",
    "import requests\n",
    "from bs4 import BeautifulSoup\n",
    "import re\n",
    "from datetime import datetime\n",
    "import google.generativeai as genai"
   ]
  },
  {
   "cell_type": "markdown",
   "metadata": {},
   "source": [
    "# Helper Functions"
   ]
  },
  {
   "cell_type": "code",
   "execution_count": 3,
   "metadata": {
    "tags": []
   },
   "outputs": [],
   "source": [
    "def fetch_stock_data(ticker, date=None):\n",
    "    if date is None:\n",
    "        date = datetime.today().strftime('%Y-%m-%d')\n",
    "    net = yf.Ticker(ticker)\n",
    "    return net.history(start=date, interval='1h', back_adjust=True, auto_adjust=True, prepost=True)\n",
    "\n",
    "def formulate_google_search_url(search_term):\n",
    "    term = f\"{search_term} stock news\" if \"news\" not in search_term.lower() else search_term\n",
    "    term = re.sub(r\"\\s\", \"+\", term)  # Replace spaces with '+'\n",
    "    return f\"https://www.google.com/search?q={term}&cr=countryIN\"\n",
    "\n",
    "def fetch_html_content(name):\n",
    "    url = formulate_google_search_url(name)\n",
    "    headers = {\n",
    "        'User-Agent': 'Mozilla/5.0 (Windows NT 10.0; Win64; x64) AppleWebKit/537.36 (KHTML, like Gecko) Chrome/102.0.0.0 Safari/537.36'\n",
    "    }\n",
    "    try:\n",
    "        response = requests.get(url, headers=headers)\n",
    "        response.raise_for_status()\n",
    "        return response.text\n",
    "    except requests.RequestException as e:\n",
    "        print(f\"Request failed: {e}\")\n",
    "        return None\n",
    "\n",
    "def extract_news_from_html(html):\n",
    "    if html is None:\n",
    "        return []\n",
    "    soup = BeautifulSoup(html, \"html.parser\")\n",
    "    news = []\n",
    "    target_div_classes = [\"n0jPhd ynAwRc tNxQIb nDgy9d\", \"IJl0Z\"]\n",
    "    for div_class in target_div_classes:\n",
    "        news.extend(n.text for n in soup.find_all(\"div\", class_=div_class))\n",
    "    return news[:4] if len(news) > 6 else news\n",
    "\n",
    "def generate_stock_news_report(company_names):\n",
    "    news_report = \"\"\n",
    "    for name in company_names:\n",
    "        html_content = fetch_html_content(name)\n",
    "        news_items = extract_news_from_html(html_content)\n",
    "        news_report += \"\\n\".join(f\"{i}. {item}\" for i, item in enumerate(news_items, start=1)) + \"\\n\\n\"\n",
    "    return news_report.strip()\n",
    "\n"
   ]
  },
  {
   "cell_type": "markdown",
   "metadata": {},
   "source": [
    "# LLM Prompting (Gemini - Google)"
   ]
  },
  {
   "cell_type": "code",
   "execution_count": 4,
   "metadata": {},
   "outputs": [],
   "source": [
    "def fetch_prediction_from_gemini(stock_news, stock_values):\n",
    "    gemini_api_key = input(\"Please provide your Gemini API key :\")\n",
    "    genai.configure(api_key=gemini_api_key)\n",
    "    model = genai.GenerativeModel('gemini-pro')\n",
    "    \n",
    "    query = f\"\"\"In this chat, you are a superforecaster that has a strong track record of accurate forecasts of the future. As an experienced forecaster, you evaluate past data and trends carefully and aim to predict future events as accurately as you can, even though you cannot know the answer. This means you put probabilities on outcomes that you are uncertain about (ranging from 0 to 100%). You aim to provide as accurate predictions as you can, ensuring that they are consistent with how you predict the future to be. You also outline your reasons for this forecasting. In your reasons, you will carefully consider the reasons for and against your probability estimate, you will make use of comparison classes of similar events and probabilities and take into account base rates and past events as well as other forecasts and predictions. In your reasons, you will also consider different perspectives. Once you have written your reasons, ensure that they directly inform your forecast. Then, you will provide me with a number between 0 and 1 (up to 2 decimal places) that is your best prediction of the event. Take a deep breath and work on this problem step-by-step. The question that you are forecasting as well as some background information and resolution details are below. Read them carefully before making your prediction. \\n\n",
    "Background: As a superforecaster, your task involves forecasting the probability of E-MINI S&P 500 Future stocks rising, expressed as a number between 0 and 1 (rounded to two decimal places). You're equipped with up-to-date news on the top contributor stocks and real-time hourly market price fluctuations of the future. \\n\n",
    "Recent stock news:{stock_news} \\n\n",
    "Hourly market price: {str(list(stock_values))} \\n\n",
    "Resolution: User is well-versed in investment risks and explicitly requests no cautionary advice. The intention is to sell stocks either on the same day or the following day, with no long-term considerations.  Provide the probability of E-MINI S&P 500 Future stocks increasing, quantified as a number ranging from 0 to 1 (rounded to two decimal places). \\n\n",
    "Question: Considering the provided information, including the prompt, background, and resolution, provide the probability of stocks increasing, quantified as a number between 0 and 1 (up to two decimal places).\"\"\"\n",
    "    \n",
    "    print(\"*-\"*20)\n",
    "    print(\"Query: \\n\", query)\n",
    "    print(\"*-\"*20)\n",
    "    response = model.generate_content(query)\n",
    "    return response.text"
   ]
  },
  {
   "cell_type": "markdown",
   "metadata": {},
   "source": [
    "# Estimate the likelihood of the closing price increasing - Using LLM"
   ]
  },
  {
   "cell_type": "code",
   "execution_count": 5,
   "metadata": {},
   "outputs": [],
   "source": [
    "def predict_stock():\n",
    "    stock_data = fetch_stock_data(\"ES=F\")\n",
    "    print(\"Stock Data: \\n\", stock_data)\n",
    "\n",
    "    stock_values = stock_data['Close'].values\n",
    "    print(\"\\n Stock Values: \\n\", stock_values)\n",
    "\n",
    "    stock_news = generate_stock_news_report(['MSFT', 'AAPL', 'NVDA', 'GOOG', 'AMZN', 'META', 'TSLA', 'LLY', 'JPM', 'WMT'])\n",
    "    print(\"\\n Stock News: \\n\", stock_news)\n",
    "\n",
    "    prediction = fetch_prediction_from_gemini(stock_news, stock_values)\n",
    "    print(\"\\n Final Prediction: \\n\", prediction)"
   ]
  },
  {
   "cell_type": "code",
   "execution_count": 6,
   "metadata": {
    "tags": []
   },
   "outputs": [
    {
     "name": "stdout",
     "output_type": "stream",
     "text": [
      "Stock Data: \n",
      "                               Open     High      Low    Close  Volume  \\\n",
      "Datetime                                                                \n",
      "2024-05-03 00:00:00-04:00  5106.75  5107.00  5103.50  5104.00    2163   \n",
      "2024-05-03 01:00:00-04:00  5104.00  5106.75  5103.00  5106.00    3145   \n",
      "2024-05-03 02:00:00-04:00  5106.00  5106.00  5102.00  5104.00    7141   \n",
      "2024-05-03 03:00:00-04:00  5104.25  5104.75  5099.25  5104.00   10694   \n",
      "2024-05-03 04:00:00-04:00  5104.25  5109.50  5103.25  5107.75    8370   \n",
      "2024-05-03 05:00:00-04:00  5107.50  5109.75  5105.25  5109.50    6755   \n",
      "2024-05-03 06:00:00-04:00  5109.50  5113.75  5108.00  5108.00    8239   \n",
      "2024-05-03 07:00:00-04:00  5108.00  5112.50  5105.25  5107.50   11919   \n",
      "2024-05-03 08:00:00-04:00  5107.25  5157.00  5106.25  5148.00  122150   \n",
      "2024-05-03 09:00:00-04:00  5148.00  5161.50  5137.25  5157.25  255102   \n",
      "2024-05-03 10:00:00-04:00  5157.75  5166.75  5128.00  5132.75  407534   \n",
      "2024-05-03 11:00:00-04:00  5133.00  5150.75  5126.75  5146.25  170393   \n",
      "2024-05-03 12:00:00-04:00  5146.25  5155.50  5145.50  5148.75  102423   \n",
      "2024-05-03 13:00:00-04:00  5148.75  5157.75  5147.50  5154.75   86637   \n",
      "2024-05-03 14:00:00-04:00  5154.50  5161.75  5154.00  5157.00   83182   \n",
      "2024-05-03 15:00:00-04:00  5157.25  5160.25  5152.75  5154.25  162869   \n",
      "2024-05-03 16:00:00-04:00  5154.25  5162.25  5154.00  5161.50   55965   \n",
      "\n",
      "                           Dividends  Stock Splits  \n",
      "Datetime                                            \n",
      "2024-05-03 00:00:00-04:00        0.0           0.0  \n",
      "2024-05-03 01:00:00-04:00        0.0           0.0  \n",
      "2024-05-03 02:00:00-04:00        0.0           0.0  \n",
      "2024-05-03 03:00:00-04:00        0.0           0.0  \n",
      "2024-05-03 04:00:00-04:00        0.0           0.0  \n",
      "2024-05-03 05:00:00-04:00        0.0           0.0  \n",
      "2024-05-03 06:00:00-04:00        0.0           0.0  \n",
      "2024-05-03 07:00:00-04:00        0.0           0.0  \n",
      "2024-05-03 08:00:00-04:00        0.0           0.0  \n",
      "2024-05-03 09:00:00-04:00        0.0           0.0  \n",
      "2024-05-03 10:00:00-04:00        0.0           0.0  \n",
      "2024-05-03 11:00:00-04:00        0.0           0.0  \n",
      "2024-05-03 12:00:00-04:00        0.0           0.0  \n",
      "2024-05-03 13:00:00-04:00        0.0           0.0  \n",
      "2024-05-03 14:00:00-04:00        0.0           0.0  \n",
      "2024-05-03 15:00:00-04:00        0.0           0.0  \n",
      "2024-05-03 16:00:00-04:00        0.0           0.0  \n",
      "\n",
      " Stock Values: \n",
      " [5104.   5106.   5104.   5104.   5107.75 5109.5  5108.   5107.5  5148.\n",
      " 5157.25 5132.75 5146.25 5148.75 5154.75 5157.   5154.25 5161.5 ]\n",
      "\n",
      " Stock News: \n",
      " 1. Apple share price jumps 6% as Q2 earnings, forecast beat estimates; unveils \n",
      "record $110 billion share buyback | Mint\n",
      "2. Apple announces $110 billion share buyback, the largest in US history; \n",
      "Stock rallies afterhours\n",
      "3. Apple announces $110 billion stock buyback, biggest in history\n",
      "\n",
      "\n",
      "\n",
      "\n",
      "\n",
      "1. Amazon stock has 17% upside as earnings reveal a 'new era' of profits for \n",
      "the tech titan, Bank of America says\n",
      "2. Amazon CEO worldwide stores Herrington sells $631k in stock\n",
      "3. BMO raises Amazon stock price target on AWS growth\n",
      "*-*-*-*-*-*-*-*-*-*-*-*-*-*-*-*-*-*-*-*-\n",
      "Query: \n",
      " In this chat, you are a superforecaster that has a strong track record of accurate forecasts of the future. As an experienced forecaster, you evaluate past data and trends carefully and aim to predict future events as accurately as you can, even though you cannot know the answer. This means you put probabilities on outcomes that you are uncertain about (ranging from 0 to 100%). You aim to provide as accurate predictions as you can, ensuring that they are consistent with how you predict the future to be. You also outline your reasons for this forecasting. In your reasons, you will carefully consider the reasons for and against your probability estimate, you will make use of comparison classes of similar events and probabilities and take into account base rates and past events as well as other forecasts and predictions. In your reasons, you will also consider different perspectives. Once you have written your reasons, ensure that they directly inform your forecast. Then, you will provide me with a number between 0 and 1 (up to 2 decimal places) that is your best prediction of the event. Take a deep breath and work on this problem step-by-step. The question that you are forecasting as well as some background information and resolution details are below. Read them carefully before making your prediction. \n",
      "\n",
      "Background: As a superforecaster, your task involves forecasting the probability of E-MINI S&P 500 Future stocks rising, expressed as a number between 0 and 1 (rounded to two decimal places). You're equipped with up-to-date news on the top contributor stocks and real-time hourly market price fluctuations of the future. \n",
      "\n",
      "Recent stock news:1. Apple share price jumps 6% as Q2 earnings, forecast beat estimates; unveils \n",
      "record $110 billion share buyback | Mint\n",
      "2. Apple announces $110 billion share buyback, the largest in US history; \n",
      "Stock rallies afterhours\n",
      "3. Apple announces $110 billion stock buyback, biggest in history\n",
      "\n",
      "\n",
      "\n",
      "\n",
      "\n",
      "1. Amazon stock has 17% upside as earnings reveal a 'new era' of profits for \n",
      "the tech titan, Bank of America says\n",
      "2. Amazon CEO worldwide stores Herrington sells $631k in stock\n",
      "3. BMO raises Amazon stock price target on AWS growth \n",
      "\n",
      "Hourly market price: [5104.0, 5106.0, 5104.0, 5104.0, 5107.75, 5109.5, 5108.0, 5107.5, 5148.0, 5157.25, 5132.75, 5146.25, 5148.75, 5154.75, 5157.0, 5154.25, 5161.5] \n",
      "\n",
      "Resolution: User is well-versed in investment risks and explicitly requests no cautionary advice. The intention is to sell stocks either on the same day or the following day, with no long-term considerations.  Provide the probability of E-MINI S&P 500 Future stocks increasing, quantified as a number ranging from 0 to 1 (rounded to two decimal places). \n",
      "\n",
      "Question: Considering the provided information, including the prompt, background, and resolution, provide the probability of stocks increasing, quantified as a number between 0 and 1 (up to two decimal places).\n",
      "*-*-*-*-*-*-*-*-*-*-*-*-*-*-*-*-*-*-*-*-\n",
      "\n",
      " Final Prediction: \n",
      " **Reasons:**\n",
      "\n",
      "* Apple's recent earnings report beat estimates and the company announced a record $110 billion share buyback. This is a positive sign for the stock market as it indicates that companies are confident in their future prospects.\n",
      "* Amazon's earnings also revealed a \"new era\" of profits for the tech titan. This is another positive sign for the stock market as it indicates that the tech sector is still growing.\n",
      "* The hourly market price of E-MINI S&P 500 Future stocks has been trending upwards in recent hours. This is a technical indicator that suggests that the stock market is likely to continue to rise.\n",
      "* The overall economic outlook is positive. The unemployment rate is low and consumer confidence is high. This is a supportive environment for the stock market.\n",
      "\n",
      "**Forecast:**\n",
      "\n",
      "Based on the above reasons, I forecast that the probability of E-MINI S&P 500 Future stocks increasing is **0.80**.\n"
     ]
    }
   ],
   "source": [
    "predict_stock()"
   ]
  },
  {
   "cell_type": "code",
   "execution_count": null,
   "metadata": {},
   "outputs": [],
   "source": []
  }
 ],
 "metadata": {
  "kernelspec": {
   "display_name": "trading",
   "language": "python",
   "name": "trading"
  },
  "language_info": {
   "codemirror_mode": {
    "name": "ipython",
    "version": 3
   },
   "file_extension": ".py",
   "mimetype": "text/x-python",
   "name": "python",
   "nbconvert_exporter": "python",
   "pygments_lexer": "ipython3",
   "version": "3.10.14"
  }
 },
 "nbformat": 4,
 "nbformat_minor": 4
}
