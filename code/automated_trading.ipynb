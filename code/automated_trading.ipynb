{
 "cells": [
  {
   "cell_type": "markdown",
   "metadata": {},
   "source": [
    "# Automated Trading"
   ]
  },
  {
   "cell_type": "markdown",
   "metadata": {},
   "source": [
    "### Importing libraries"
   ]
  },
  {
   "cell_type": "code",
   "execution_count": null,
   "metadata": {},
   "outputs": [],
   "source": [
    "from ib_insync import *"
   ]
  },
  {
   "cell_type": "markdown",
   "metadata": {},
   "source": [
    "### Creating contracts and storing historical data"
   ]
  },
  {
   "cell_type": "code",
   "execution_count": null,
   "metadata": {},
   "outputs": [],
   "source": [
    "ib = IB()\n",
    "ib.connect('127.0.0.1', 7497, clientId=1)\n",
    "contract = Future('ES', '202306', 'CME')\n",
    "ib.qualifyContracts(contract)\n",
    "ib.reqMarketDataType(3)\n",
    "\n",
    "historical_data = ib.reqHistoricalData(\n",
    "    contract, endDateTime='', durationStr='30 D',\n",
    "    barSizeSetting='1 hour', whatToShow='MIDPOINT', useRTH=True)\n",
    "df = util.df(historical_data)\n",
    "print(df)"
   ]
  },
  {
   "cell_type": "markdown",
   "metadata": {},
   "source": [
    "### Placing orders - Buy/Sell"
   ]
  },
  {
   "cell_type": "code",
   "execution_count": null,
   "metadata": {},
   "outputs": [],
   "source": [
    "order = Order(action='SELL', totalQuantity=100, orderType='LMT', lmtPrice=500)\n",
    "trade = ib.placeOrder(contract, order)"
   ]
  },
  {
   "cell_type": "markdown",
   "metadata": {},
   "source": [
    "### Check balance"
   ]
  },
  {
   "cell_type": "code",
   "execution_count": null,
   "metadata": {},
   "outputs": [],
   "source": [
    "account = ib.accountSummary()\n",
    "balance = next((item for item in account if item.tag == 'TotalCashBalance'), None)\n",
    "print(\"Account Balance:\", balance.value)"
   ]
  }
 ],
 "metadata": {
  "kernelspec": {
   "display_name": "Python 3",
   "language": "python",
   "name": "python3"
  },
  "language_info": {
   "name": "python",
   "version": "3.9.6"
  }
 },
 "nbformat": 4,
 "nbformat_minor": 2
}
