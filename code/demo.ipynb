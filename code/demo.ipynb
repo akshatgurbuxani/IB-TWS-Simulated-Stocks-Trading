{
 "cells": [
  {
   "cell_type": "markdown",
   "metadata": {},
   "source": [
    "# Import Libraries"
   ]
  },
  {
   "cell_type": "code",
   "execution_count": 80,
   "metadata": {
    "scrolled": true,
    "tags": []
   },
   "outputs": [],
   "source": [
    "import polars as pl\n",
    "import requests\n",
    "import numpy as np\n",
    "import pandas as pd\n",
    "import os\n",
    "from tqdm import tqdm\n",
    "import pickle"
   ]
  },
  {
   "cell_type": "markdown",
   "metadata": {},
   "source": [
    "# Fetch Current News"
   ]
  },
  {
   "cell_type": "code",
   "execution_count": 50,
   "metadata": {
    "tags": []
   },
   "outputs": [],
   "source": [
    "def build_endpoint(stock_ticker, api_key, start_date, end_date=None):\n",
    "    \"\"\"\n",
    "    Constructs the API endpoint for fetching news data.\n",
    "    \"\"\"\n",
    "    base_url = \"https://www.alphavantage.co/query?function=NEWS_SENTIMENT\"\n",
    "    date_from = f\"&time_from={start_date}T0130\"\n",
    "    date_to = f\"&time_to={end_date}T0130\" if end_date else \"\"\n",
    "    limit = \"&limit=1000\"\n",
    "    return f\"{base_url}&tickers={stock_ticker}{date_from}{date_to}{limit}&apikey={api_key}\"\n",
    "\n",
    "def fetch_news_data(stock_ticker, api_key, start_date, end_date=None):\n",
    "    \"\"\"\n",
    "    Makes an API request and returns the response data.\n",
    "    \"\"\"\n",
    "    endpoint = build_endpoint(stock_ticker, api_key, start_date, end_date)\n",
    "    response = requests.get(endpoint)\n",
    "    if response.status_code == 200:\n",
    "        return response.json()\n",
    "    else:\n",
    "        print(f\"Failed to fetch data: {response.status_code}\")\n",
    "        return None\n",
    "\n",
    "def convert_to_dataframe(news_items):\n",
    "    \"\"\"\n",
    "    Converts a list of news items into a Polars DataFrame and extracts the date.\n",
    "    \"\"\"\n",
    "    news_items = news_items.get(\"feed\", [])\n",
    "    if news_items:\n",
    "        df = pl.DataFrame(news_items)\n",
    "        df = df.with_columns(pl.col(\"time_published\").str.slice(0, 10).alias(\"date\"))\n",
    "        return df\n",
    "    return pl.DataFrame()\n",
    "\n",
    "def aggregate_news_data(stock_ticker_list, api_key, start_date, end_date=None):\n",
    "    \"\"\"\n",
    "    Fetches and aggregates news data for multiple stock tickers.\n",
    "    \"\"\"\n",
    "    df_list = []\n",
    "    for stock_ticker in stock_ticker_list:\n",
    "        news_data = fetch_news_data(stock_ticker, api_key, start_date, end_date)\n",
    "        if news_data:\n",
    "            df = convert_to_dataframe(news_data)\n",
    "            df_list.append(df)\n",
    "\n",
    "    return pl.concat(df_list, how='vertical') if df_list else pl.DataFrame()\n",
    "\n",
    "def get_news(start_date, end_date):\n",
    "    # Top stocks in S & P\n",
    "    stock_ticker_list = ['MSFT', 'AAPL', 'NVDA', 'GOOG', 'AMZN', 'META', 'TSLA', 'LLY', 'JPM', 'WMT']\n",
    "    \n",
    "    stock_ticker_list = ['MSFT']\n",
    "    \n",
    "    \n",
    "    api_key = input (\"Please provide your Alpha Vantage API key :\")\n",
    "    news = aggregate_news_data(stock_ticker_list, api_key, start_date, end_date)\n",
    "    \n",
    "    return news"
   ]
  },
  {
   "cell_type": "code",
   "execution_count": null,
   "metadata": {
    "tags": []
   },
   "outputs": [],
   "source": [
    "start_date = '20240424'\n",
    "end_date = '20240425'\n",
    "news_data = get_news(start_date, end_date)"
   ]
  },
  {
   "cell_type": "code",
   "execution_count": 52,
   "metadata": {
    "tags": []
   },
   "outputs": [],
   "source": [
    "news_data = news_data.to_pandas()"
   ]
  },
  {
   "cell_type": "markdown",
   "metadata": {
    "tags": []
   },
   "source": [
    "# Group the News Data - Based On Date"
   ]
  },
  {
   "cell_type": "code",
   "execution_count": 53,
   "metadata": {
    "tags": []
   },
   "outputs": [],
   "source": [
    "news_data.sort_values(by = 'time_published', inplace=True)"
   ]
  },
  {
   "cell_type": "code",
   "execution_count": 54,
   "metadata": {
    "tags": []
   },
   "outputs": [],
   "source": [
    "news_data = news_data[['date', 'title', 'summary']]"
   ]
  },
  {
   "cell_type": "code",
   "execution_count": 55,
   "metadata": {
    "tags": []
   },
   "outputs": [
    {
     "data": {
      "text/html": [
       "<div>\n",
       "<style scoped>\n",
       "    .dataframe tbody tr th:only-of-type {\n",
       "        vertical-align: middle;\n",
       "    }\n",
       "\n",
       "    .dataframe tbody tr th {\n",
       "        vertical-align: top;\n",
       "    }\n",
       "\n",
       "    .dataframe thead th {\n",
       "        text-align: right;\n",
       "    }\n",
       "</style>\n",
       "<table border=\"1\" class=\"dataframe\">\n",
       "  <thead>\n",
       "    <tr style=\"text-align: right;\">\n",
       "      <th></th>\n",
       "      <th>date</th>\n",
       "      <th>title</th>\n",
       "      <th>summary</th>\n",
       "    </tr>\n",
       "  </thead>\n",
       "  <tbody>\n",
       "    <tr>\n",
       "      <th>83</th>\n",
       "      <td>20240424T0</td>\n",
       "      <td>Congress tells China: sell TikTok or we'll ban it</td>\n",
       "      <td>J joined TikTok only two months ago, with a vi...</td>\n",
       "    </tr>\n",
       "    <tr>\n",
       "      <th>82</th>\n",
       "      <td>20240424T0</td>\n",
       "      <td>Biden Set To Sign TikTok Ban Into Law After Se...</td>\n",
       "      <td>The U.S. Senate has passed a bill that could l...</td>\n",
       "    </tr>\n",
       "    <tr>\n",
       "      <th>81</th>\n",
       "      <td>20240424T0</td>\n",
       "      <td>PERION NETWORK SHAREHOLDER ALERT BY FORMER LOU...</td>\n",
       "      <td>NEW ORLEANS, April 23, 2024 ( GLOBE NEWSWIRE )...</td>\n",
       "    </tr>\n",
       "    <tr>\n",
       "      <th>80</th>\n",
       "      <td>20240424T0</td>\n",
       "      <td>US Market surges on robust earnings</td>\n",
       "      <td>Investors also awaited a slew of key U.S. econ...</td>\n",
       "    </tr>\n",
       "    <tr>\n",
       "      <th>79</th>\n",
       "      <td>20240424T0</td>\n",
       "      <td>6 Rules for a 'Show Me' Stock Market.</td>\n",
       "      <td>Show me, don't tell me-it's the new mantra for...</td>\n",
       "    </tr>\n",
       "  </tbody>\n",
       "</table>\n",
       "</div>"
      ],
      "text/plain": [
       "          date                                              title  \\\n",
       "83  20240424T0  Congress tells China: sell TikTok or we'll ban it   \n",
       "82  20240424T0  Biden Set To Sign TikTok Ban Into Law After Se...   \n",
       "81  20240424T0  PERION NETWORK SHAREHOLDER ALERT BY FORMER LOU...   \n",
       "80  20240424T0                US Market surges on robust earnings   \n",
       "79  20240424T0              6 Rules for a 'Show Me' Stock Market.   \n",
       "\n",
       "                                              summary  \n",
       "83  J joined TikTok only two months ago, with a vi...  \n",
       "82  The U.S. Senate has passed a bill that could l...  \n",
       "81  NEW ORLEANS, April 23, 2024 ( GLOBE NEWSWIRE )...  \n",
       "80  Investors also awaited a slew of key U.S. econ...  \n",
       "79  Show me, don't tell me-it's the new mantra for...  "
      ]
     },
     "execution_count": 55,
     "metadata": {},
     "output_type": "execute_result"
    }
   ],
   "source": [
    "news_data.head()"
   ]
  },
  {
   "cell_type": "code",
   "execution_count": 56,
   "metadata": {
    "tags": []
   },
   "outputs": [],
   "source": [
    "news_data['title'] = news_data['title']\n",
    "news_data['summary'] = news_data['summary'] + ' \\n\\n'"
   ]
  },
  {
   "cell_type": "code",
   "execution_count": 57,
   "metadata": {
    "tags": []
   },
   "outputs": [],
   "source": [
    "news_data['cumulative_title'] = news_data.groupby('date')['title'].transform(lambda x: x.cumsum())\n",
    "news_data['cumulative_summary'] = news_data.groupby('date')['summary'].transform(lambda x: x.cumsum())"
   ]
  },
  {
   "cell_type": "code",
   "execution_count": 58,
   "metadata": {
    "tags": []
   },
   "outputs": [
    {
     "data": {
      "text/html": [
       "<div>\n",
       "<style scoped>\n",
       "    .dataframe tbody tr th:only-of-type {\n",
       "        vertical-align: middle;\n",
       "    }\n",
       "\n",
       "    .dataframe tbody tr th {\n",
       "        vertical-align: top;\n",
       "    }\n",
       "\n",
       "    .dataframe thead th {\n",
       "        text-align: right;\n",
       "    }\n",
       "</style>\n",
       "<table border=\"1\" class=\"dataframe\">\n",
       "  <thead>\n",
       "    <tr style=\"text-align: right;\">\n",
       "      <th></th>\n",
       "      <th>date</th>\n",
       "      <th>title</th>\n",
       "      <th>summary</th>\n",
       "      <th>cumulative_title</th>\n",
       "      <th>cumulative_summary</th>\n",
       "    </tr>\n",
       "  </thead>\n",
       "  <tbody>\n",
       "    <tr>\n",
       "      <th>83</th>\n",
       "      <td>20240424T0</td>\n",
       "      <td>Congress tells China: sell TikTok or we'll ban it</td>\n",
       "      <td>J joined TikTok only two months ago, with a vi...</td>\n",
       "      <td>Congress tells China: sell TikTok or we'll ban it</td>\n",
       "      <td>J joined TikTok only two months ago, with a vi...</td>\n",
       "    </tr>\n",
       "    <tr>\n",
       "      <th>82</th>\n",
       "      <td>20240424T0</td>\n",
       "      <td>Biden Set To Sign TikTok Ban Into Law After Se...</td>\n",
       "      <td>The U.S. Senate has passed a bill that could l...</td>\n",
       "      <td>Congress tells China: sell TikTok or we'll ban...</td>\n",
       "      <td>J joined TikTok only two months ago, with a vi...</td>\n",
       "    </tr>\n",
       "    <tr>\n",
       "      <th>81</th>\n",
       "      <td>20240424T0</td>\n",
       "      <td>PERION NETWORK SHAREHOLDER ALERT BY FORMER LOU...</td>\n",
       "      <td>NEW ORLEANS, April 23, 2024 ( GLOBE NEWSWIRE )...</td>\n",
       "      <td>Congress tells China: sell TikTok or we'll ban...</td>\n",
       "      <td>J joined TikTok only two months ago, with a vi...</td>\n",
       "    </tr>\n",
       "    <tr>\n",
       "      <th>80</th>\n",
       "      <td>20240424T0</td>\n",
       "      <td>US Market surges on robust earnings</td>\n",
       "      <td>Investors also awaited a slew of key U.S. econ...</td>\n",
       "      <td>Congress tells China: sell TikTok or we'll ban...</td>\n",
       "      <td>J joined TikTok only two months ago, with a vi...</td>\n",
       "    </tr>\n",
       "    <tr>\n",
       "      <th>79</th>\n",
       "      <td>20240424T0</td>\n",
       "      <td>6 Rules for a 'Show Me' Stock Market.</td>\n",
       "      <td>Show me, don't tell me-it's the new mantra for...</td>\n",
       "      <td>Congress tells China: sell TikTok or we'll ban...</td>\n",
       "      <td>J joined TikTok only two months ago, with a vi...</td>\n",
       "    </tr>\n",
       "    <tr>\n",
       "      <th>...</th>\n",
       "      <td>...</td>\n",
       "      <td>...</td>\n",
       "      <td>...</td>\n",
       "      <td>...</td>\n",
       "      <td>...</td>\n",
       "    </tr>\n",
       "    <tr>\n",
       "      <th>4</th>\n",
       "      <td>20240424T2</td>\n",
       "      <td>Melinda French Gates and her daughters love Ta...</td>\n",
       "      <td>Melinda French Gates and daughters sing along ...</td>\n",
       "      <td>Stock market today: US stocks mixed as traders...</td>\n",
       "      <td>Stock Market Today: US Stocks Mixed Ahead of G...</td>\n",
       "    </tr>\n",
       "    <tr>\n",
       "      <th>3</th>\n",
       "      <td>20240425T0</td>\n",
       "      <td>International Business Machines  ( IBM )  Q1 2...</td>\n",
       "      <td>IBM earnings call for the period ending March ...</td>\n",
       "      <td>International Business Machines  ( IBM )  Q1 2...</td>\n",
       "      <td>IBM earnings call for the period ending March ...</td>\n",
       "    </tr>\n",
       "    <tr>\n",
       "      <th>2</th>\n",
       "      <td>20240425T0</td>\n",
       "      <td>ServiceNow  ( NOW )  Q1 2024 Earnings Call Tra...</td>\n",
       "      <td>NOW earnings call for the period ending March ...</td>\n",
       "      <td>International Business Machines  ( IBM )  Q1 2...</td>\n",
       "      <td>IBM earnings call for the period ending March ...</td>\n",
       "    </tr>\n",
       "    <tr>\n",
       "      <th>1</th>\n",
       "      <td>20240425T0</td>\n",
       "      <td>Bragar Eagel &amp; Squire, P.C. Reminds Investors ...</td>\n",
       "      <td>NEW YORK, April 24, 2024 ( GLOBE NEWSWIRE ) --...</td>\n",
       "      <td>International Business Machines  ( IBM )  Q1 2...</td>\n",
       "      <td>IBM earnings call for the period ending March ...</td>\n",
       "    </tr>\n",
       "    <tr>\n",
       "      <th>0</th>\n",
       "      <td>20240425T0</td>\n",
       "      <td>JEE Mains Session 2 Final Result 2024 Out HIGH...</td>\n",
       "      <td>JEE Main 2024 Session 2 Result HIGHLIGHTS: The...</td>\n",
       "      <td>International Business Machines  ( IBM )  Q1 2...</td>\n",
       "      <td>IBM earnings call for the period ending March ...</td>\n",
       "    </tr>\n",
       "  </tbody>\n",
       "</table>\n",
       "<p>84 rows × 5 columns</p>\n",
       "</div>"
      ],
      "text/plain": [
       "          date                                              title  \\\n",
       "83  20240424T0  Congress tells China: sell TikTok or we'll ban it   \n",
       "82  20240424T0  Biden Set To Sign TikTok Ban Into Law After Se...   \n",
       "81  20240424T0  PERION NETWORK SHAREHOLDER ALERT BY FORMER LOU...   \n",
       "80  20240424T0                US Market surges on robust earnings   \n",
       "79  20240424T0              6 Rules for a 'Show Me' Stock Market.   \n",
       "..         ...                                                ...   \n",
       "4   20240424T2  Melinda French Gates and her daughters love Ta...   \n",
       "3   20240425T0  International Business Machines  ( IBM )  Q1 2...   \n",
       "2   20240425T0  ServiceNow  ( NOW )  Q1 2024 Earnings Call Tra...   \n",
       "1   20240425T0  Bragar Eagel & Squire, P.C. Reminds Investors ...   \n",
       "0   20240425T0  JEE Mains Session 2 Final Result 2024 Out HIGH...   \n",
       "\n",
       "                                              summary  \\\n",
       "83  J joined TikTok only two months ago, with a vi...   \n",
       "82  The U.S. Senate has passed a bill that could l...   \n",
       "81  NEW ORLEANS, April 23, 2024 ( GLOBE NEWSWIRE )...   \n",
       "80  Investors also awaited a slew of key U.S. econ...   \n",
       "79  Show me, don't tell me-it's the new mantra for...   \n",
       "..                                                ...   \n",
       "4   Melinda French Gates and daughters sing along ...   \n",
       "3   IBM earnings call for the period ending March ...   \n",
       "2   NOW earnings call for the period ending March ...   \n",
       "1   NEW YORK, April 24, 2024 ( GLOBE NEWSWIRE ) --...   \n",
       "0   JEE Main 2024 Session 2 Result HIGHLIGHTS: The...   \n",
       "\n",
       "                                     cumulative_title  \\\n",
       "83  Congress tells China: sell TikTok or we'll ban it   \n",
       "82  Congress tells China: sell TikTok or we'll ban...   \n",
       "81  Congress tells China: sell TikTok or we'll ban...   \n",
       "80  Congress tells China: sell TikTok or we'll ban...   \n",
       "79  Congress tells China: sell TikTok or we'll ban...   \n",
       "..                                                ...   \n",
       "4   Stock market today: US stocks mixed as traders...   \n",
       "3   International Business Machines  ( IBM )  Q1 2...   \n",
       "2   International Business Machines  ( IBM )  Q1 2...   \n",
       "1   International Business Machines  ( IBM )  Q1 2...   \n",
       "0   International Business Machines  ( IBM )  Q1 2...   \n",
       "\n",
       "                                   cumulative_summary  \n",
       "83  J joined TikTok only two months ago, with a vi...  \n",
       "82  J joined TikTok only two months ago, with a vi...  \n",
       "81  J joined TikTok only two months ago, with a vi...  \n",
       "80  J joined TikTok only two months ago, with a vi...  \n",
       "79  J joined TikTok only two months ago, with a vi...  \n",
       "..                                                ...  \n",
       "4   Stock Market Today: US Stocks Mixed Ahead of G...  \n",
       "3   IBM earnings call for the period ending March ...  \n",
       "2   IBM earnings call for the period ending March ...  \n",
       "1   IBM earnings call for the period ending March ...  \n",
       "0   IBM earnings call for the period ending March ...  \n",
       "\n",
       "[84 rows x 5 columns]"
      ]
     },
     "execution_count": 58,
     "metadata": {},
     "output_type": "execute_result"
    }
   ],
   "source": [
    "news_data"
   ]
  },
  {
   "cell_type": "code",
   "execution_count": 59,
   "metadata": {
    "tags": []
   },
   "outputs": [],
   "source": [
    "news_data['Date'] = news_data['date'].apply(lambda x : x[:4] + '-' + x[4:6] + '-' + x[6:8])\n",
    "# news_data.drop(columns = ['date'], inplace =True)"
   ]
  },
  {
   "cell_type": "code",
   "execution_count": 62,
   "metadata": {
    "tags": []
   },
   "outputs": [
    {
     "name": "stdout",
     "output_type": "stream",
     "text": [
      "2024-04-25\n"
     ]
    }
   ],
   "source": [
    "required_date = (lambda x : x[:4] + '-' + x[4:6] + '-' + x[6:])(end_date)\n",
    "print(required_date)\n",
    "required_news_data = news_data[news_data['Date']==required_date]"
   ]
  },
  {
   "cell_type": "code",
   "execution_count": 67,
   "metadata": {
    "tags": []
   },
   "outputs": [],
   "source": [
    "all_news_of_required_date = required_news_data.tail(1)"
   ]
  },
  {
   "cell_type": "markdown",
   "metadata": {},
   "source": [
    "# Load Text Embedding Model"
   ]
  },
  {
   "cell_type": "code",
   "execution_count": 68,
   "metadata": {
    "tags": []
   },
   "outputs": [
    {
     "name": "stderr",
     "output_type": "stream",
     "text": [
      "/Users/abhishek/anaconda3/envs/trading/lib/python3.10/site-packages/huggingface_hub/file_download.py:1132: FutureWarning: `resume_download` is deprecated and will be removed in version 1.0.0. Downloads always resume when possible. If you want to force a new download, use `force_download=True`.\n",
      "  warnings.warn(\n"
     ]
    }
   ],
   "source": [
    "from sentence_transformers import SentenceTransformer\n",
    "\n",
    "checkpoint = 'sentence-transformers/paraphrase-TinyBERT-L6-v2' # 'sentence-transformers/all-MiniLM-L6-v2'\n",
    "\n",
    "embedding_model = SentenceTransformer(checkpoint)\n",
    "\n",
    "def generate_embedding(x):\n",
    "    return embedding_model.encode(x)"
   ]
  },
  {
   "cell_type": "code",
   "execution_count": 69,
   "metadata": {
    "tags": []
   },
   "outputs": [
    {
     "name": "stderr",
     "output_type": "stream",
     "text": [
      "100%|█████████████████████████████████████████████| 1/1 [00:00<00:00, 31.11it/s]\n",
      "/var/folders/d3/97qddl1n2bnbl_hbn4p8c7340000gn/T/ipykernel_11971/102757849.py:3: SettingWithCopyWarning: \n",
      "A value is trying to be set on a copy of a slice from a DataFrame.\n",
      "Try using .loc[row_indexer,col_indexer] = value instead\n",
      "\n",
      "See the caveats in the documentation: https://pandas.pydata.org/pandas-docs/stable/user_guide/indexing.html#returning-a-view-versus-a-copy\n",
      "  all_news_of_required_date['cumulative_title_emb'] = all_news_of_required_date['cumulative_title'].progress_apply(generate_embedding)\n",
      "100%|█████████████████████████████████████████████| 1/1 [00:00<00:00, 39.81it/s]\n",
      "/var/folders/d3/97qddl1n2bnbl_hbn4p8c7340000gn/T/ipykernel_11971/102757849.py:4: SettingWithCopyWarning: \n",
      "A value is trying to be set on a copy of a slice from a DataFrame.\n",
      "Try using .loc[row_indexer,col_indexer] = value instead\n",
      "\n",
      "See the caveats in the documentation: https://pandas.pydata.org/pandas-docs/stable/user_guide/indexing.html#returning-a-view-versus-a-copy\n",
      "  all_news_of_required_date['cumulative_summary_emb'] = all_news_of_required_date['cumulative_summary'].progress_apply(generate_embedding)\n"
     ]
    }
   ],
   "source": [
    "tqdm.pandas()\n",
    "\n",
    "all_news_of_required_date['cumulative_title_emb'] = all_news_of_required_date['cumulative_title'].progress_apply(generate_embedding)\n",
    "all_news_of_required_date['cumulative_summary_emb'] = all_news_of_required_date['cumulative_summary'].progress_apply(generate_embedding)"
   ]
  },
  {
   "cell_type": "code",
   "execution_count": 70,
   "metadata": {
    "tags": []
   },
   "outputs": [
    {
     "data": {
      "text/html": [
       "<div>\n",
       "<style scoped>\n",
       "    .dataframe tbody tr th:only-of-type {\n",
       "        vertical-align: middle;\n",
       "    }\n",
       "\n",
       "    .dataframe tbody tr th {\n",
       "        vertical-align: top;\n",
       "    }\n",
       "\n",
       "    .dataframe thead th {\n",
       "        text-align: right;\n",
       "    }\n",
       "</style>\n",
       "<table border=\"1\" class=\"dataframe\">\n",
       "  <thead>\n",
       "    <tr style=\"text-align: right;\">\n",
       "      <th></th>\n",
       "      <th>date</th>\n",
       "      <th>title</th>\n",
       "      <th>summary</th>\n",
       "      <th>cumulative_title</th>\n",
       "      <th>cumulative_summary</th>\n",
       "      <th>Date</th>\n",
       "      <th>cumulative_title_emb</th>\n",
       "      <th>cumulative_summary_emb</th>\n",
       "    </tr>\n",
       "  </thead>\n",
       "  <tbody>\n",
       "    <tr>\n",
       "      <th>0</th>\n",
       "      <td>20240425T0</td>\n",
       "      <td>JEE Mains Session 2 Final Result 2024 Out HIGH...</td>\n",
       "      <td>JEE Main 2024 Session 2 Result HIGHLIGHTS: The...</td>\n",
       "      <td>International Business Machines  ( IBM )  Q1 2...</td>\n",
       "      <td>IBM earnings call for the period ending March ...</td>\n",
       "      <td>2024-04-25</td>\n",
       "      <td>[0.26864007, 0.055694774, -0.082368486, 0.0653...</td>\n",
       "      <td>[0.15465383, 0.022456273, 0.09477475, -0.05835...</td>\n",
       "    </tr>\n",
       "  </tbody>\n",
       "</table>\n",
       "</div>"
      ],
      "text/plain": [
       "         date                                              title  \\\n",
       "0  20240425T0  JEE Mains Session 2 Final Result 2024 Out HIGH...   \n",
       "\n",
       "                                             summary  \\\n",
       "0  JEE Main 2024 Session 2 Result HIGHLIGHTS: The...   \n",
       "\n",
       "                                    cumulative_title  \\\n",
       "0  International Business Machines  ( IBM )  Q1 2...   \n",
       "\n",
       "                                  cumulative_summary        Date  \\\n",
       "0  IBM earnings call for the period ending March ...  2024-04-25   \n",
       "\n",
       "                                cumulative_title_emb  \\\n",
       "0  [0.26864007, 0.055694774, -0.082368486, 0.0653...   \n",
       "\n",
       "                              cumulative_summary_emb  \n",
       "0  [0.15465383, 0.022456273, 0.09477475, -0.05835...  "
      ]
     },
     "execution_count": 70,
     "metadata": {},
     "output_type": "execute_result"
    }
   ],
   "source": [
    "all_news_of_required_date"
   ]
  },
  {
   "cell_type": "code",
   "execution_count": null,
   "metadata": {
    "tags": []
   },
   "outputs": [],
   "source": [
    "# Concatenate Features\n",
    "series1 = all_news_of_required_date['cumulative_title_emb'].apply(lambda x: x.reshape(1, -1))\n",
    "series2 = all_news_of_required_date['cumulative_summary_emb'].apply(lambda x: x.reshape(1, -1))\n",
    "\n",
    "concatenated_features = np.concatenate([np.concatenate(list(series1.values), axis = 0), np.concatenate(list(series2.values), axis = 0)], axis = 1)\n",
    "\n",
    "all_news_of_required_date['features'] = list(concatenated_features)"
   ]
  },
  {
   "cell_type": "code",
   "execution_count": 74,
   "metadata": {
    "tags": []
   },
   "outputs": [
    {
     "data": {
      "text/html": [
       "<div>\n",
       "<style scoped>\n",
       "    .dataframe tbody tr th:only-of-type {\n",
       "        vertical-align: middle;\n",
       "    }\n",
       "\n",
       "    .dataframe tbody tr th {\n",
       "        vertical-align: top;\n",
       "    }\n",
       "\n",
       "    .dataframe thead th {\n",
       "        text-align: right;\n",
       "    }\n",
       "</style>\n",
       "<table border=\"1\" class=\"dataframe\">\n",
       "  <thead>\n",
       "    <tr style=\"text-align: right;\">\n",
       "      <th></th>\n",
       "      <th>date</th>\n",
       "      <th>title</th>\n",
       "      <th>summary</th>\n",
       "      <th>cumulative_title</th>\n",
       "      <th>cumulative_summary</th>\n",
       "      <th>Date</th>\n",
       "      <th>cumulative_title_emb</th>\n",
       "      <th>cumulative_summary_emb</th>\n",
       "      <th>features</th>\n",
       "    </tr>\n",
       "  </thead>\n",
       "  <tbody>\n",
       "    <tr>\n",
       "      <th>0</th>\n",
       "      <td>20240425T0</td>\n",
       "      <td>JEE Mains Session 2 Final Result 2024 Out HIGH...</td>\n",
       "      <td>JEE Main 2024 Session 2 Result HIGHLIGHTS: The...</td>\n",
       "      <td>International Business Machines  ( IBM )  Q1 2...</td>\n",
       "      <td>IBM earnings call for the period ending March ...</td>\n",
       "      <td>2024-04-25</td>\n",
       "      <td>[0.26864007, 0.055694774, -0.082368486, 0.0653...</td>\n",
       "      <td>[0.15465383, 0.022456273, 0.09477475, -0.05835...</td>\n",
       "      <td>[0.26864007, 0.055694774, -0.082368486, 0.0653...</td>\n",
       "    </tr>\n",
       "  </tbody>\n",
       "</table>\n",
       "</div>"
      ],
      "text/plain": [
       "         date                                              title  \\\n",
       "0  20240425T0  JEE Mains Session 2 Final Result 2024 Out HIGH...   \n",
       "\n",
       "                                             summary  \\\n",
       "0  JEE Main 2024 Session 2 Result HIGHLIGHTS: The...   \n",
       "\n",
       "                                    cumulative_title  \\\n",
       "0  International Business Machines  ( IBM )  Q1 2...   \n",
       "\n",
       "                                  cumulative_summary        Date  \\\n",
       "0  IBM earnings call for the period ending March ...  2024-04-25   \n",
       "\n",
       "                                cumulative_title_emb  \\\n",
       "0  [0.26864007, 0.055694774, -0.082368486, 0.0653...   \n",
       "\n",
       "                              cumulative_summary_emb  \\\n",
       "0  [0.15465383, 0.022456273, 0.09477475, -0.05835...   \n",
       "\n",
       "                                            features  \n",
       "0  [0.26864007, 0.055694774, -0.082368486, 0.0653...  "
      ]
     },
     "execution_count": 74,
     "metadata": {},
     "output_type": "execute_result"
    }
   ],
   "source": [
    "all_news_of_required_date"
   ]
  },
  {
   "cell_type": "code",
   "execution_count": 77,
   "metadata": {
    "tags": []
   },
   "outputs": [],
   "source": [
    "final_df = all_news_of_required_date[['features', 'Date']]"
   ]
  },
  {
   "cell_type": "markdown",
   "metadata": {},
   "source": [
    "# Load Model"
   ]
  },
  {
   "cell_type": "code",
   "execution_count": 81,
   "metadata": {
    "tags": []
   },
   "outputs": [],
   "source": [
    "model_base_dir = \"../model\"\n",
    "\n",
    "# Load the model from the pickle file\n",
    "with open(f\"{model_base_dir}/random_model.pkl\", \"rb\") as f:\n",
    "    loaded_model = pickle.load(f)"
   ]
  },
  {
   "cell_type": "code",
   "execution_count": 82,
   "metadata": {
    "tags": []
   },
   "outputs": [],
   "source": [
    "X_test = list(final_df['features'])"
   ]
  },
  {
   "cell_type": "code",
   "execution_count": 85,
   "metadata": {
    "tags": []
   },
   "outputs": [
    {
     "name": "stdout",
     "output_type": "stream",
     "text": [
      "[0]\n"
     ]
    }
   ],
   "source": [
    "y_pred = loaded_model.predict(X_test)\n",
    "\n",
    "# 0 means closing price will fall, 1 means closing price will rise in near future\n",
    "print(y_pred)"
   ]
  }
 ],
 "metadata": {
  "kernelspec": {
   "display_name": "trading",
   "language": "python",
   "name": "trading"
  },
  "language_info": {
   "codemirror_mode": {
    "name": "ipython",
    "version": 3
   },
   "file_extension": ".py",
   "mimetype": "text/x-python",
   "name": "python",
   "nbconvert_exporter": "python",
   "pygments_lexer": "ipython3",
   "version": "3.10.14"
  }
 },
 "nbformat": 4,
 "nbformat_minor": 4
}
