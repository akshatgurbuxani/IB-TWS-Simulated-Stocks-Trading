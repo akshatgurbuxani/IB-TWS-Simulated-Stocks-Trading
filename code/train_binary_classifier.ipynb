{
 "cells": [
  {
   "cell_type": "markdown",
   "metadata": {},
   "source": [
    "# Import Libraries"
   ]
  },
  {
   "cell_type": "code",
   "execution_count": 1,
   "metadata": {
    "tags": []
   },
   "outputs": [],
   "source": [
    "import pandas as pd\n",
    "import numpy as np\n",
    "import matplotlib.pyplot as plt\n",
    "\n",
    "import json\n",
    "import polars as pl"
   ]
  },
  {
   "cell_type": "code",
   "execution_count": 2,
   "metadata": {
    "tags": []
   },
   "outputs": [],
   "source": [
    "data_base_dir = \"../Data\""
   ]
  },
  {
   "cell_type": "markdown",
   "metadata": {},
   "source": [
    "# Load News Data - Fetched using Alpha Vantage Earlier"
   ]
  },
  {
   "cell_type": "code",
   "execution_count": 3,
   "metadata": {
    "tags": []
   },
   "outputs": [],
   "source": [
    "news_data = pl.read_json(f'{data_base_dir}/news_data.json')\n",
    "news_data = news_data.to_pandas()"
   ]
  },
  {
   "cell_type": "code",
   "execution_count": 4,
   "metadata": {
    "tags": []
   },
   "outputs": [
    {
     "data": {
      "text/html": [
       "<div>\n",
       "<style scoped>\n",
       "    .dataframe tbody tr th:only-of-type {\n",
       "        vertical-align: middle;\n",
       "    }\n",
       "\n",
       "    .dataframe tbody tr th {\n",
       "        vertical-align: top;\n",
       "    }\n",
       "\n",
       "    .dataframe thead th {\n",
       "        text-align: right;\n",
       "    }\n",
       "</style>\n",
       "<table border=\"1\" class=\"dataframe\">\n",
       "  <thead>\n",
       "    <tr style=\"text-align: right;\">\n",
       "      <th></th>\n",
       "      <th>title</th>\n",
       "      <th>url</th>\n",
       "      <th>time_published</th>\n",
       "      <th>authors</th>\n",
       "      <th>summary</th>\n",
       "      <th>banner_image</th>\n",
       "      <th>source</th>\n",
       "      <th>category_within_source</th>\n",
       "      <th>source_domain</th>\n",
       "      <th>topics</th>\n",
       "      <th>overall_sentiment_score</th>\n",
       "      <th>overall_sentiment_label</th>\n",
       "      <th>ticker_sentiment</th>\n",
       "      <th>date</th>\n",
       "    </tr>\n",
       "  </thead>\n",
       "  <tbody>\n",
       "    <tr>\n",
       "      <th>0</th>\n",
       "      <td>Apple, AMC, Meta, And How Elon Musk Is Reactin...</td>\n",
       "      <td>https://www.benzinga.com/news/large-cap/22/12/...</td>\n",
       "      <td>20221231T190310</td>\n",
       "      <td>[Michael Cohen]</td>\n",
       "      <td>Benzinga examined the prospects for many inves...</td>\n",
       "      <td>https://cdn.benzinga.com/files/images/story/20...</td>\n",
       "      <td>Benzinga</td>\n",
       "      <td>Trading</td>\n",
       "      <td>www.benzinga.com</td>\n",
       "      <td>[{'topic': 'Financial Markets', 'relevance_sco...</td>\n",
       "      <td>-0.079733</td>\n",
       "      <td>Neutral</td>\n",
       "      <td>[{'ticker': 'MSTR', 'relevance_score': '0.2478...</td>\n",
       "      <td>20221231</td>\n",
       "    </tr>\n",
       "    <tr>\n",
       "      <th>1</th>\n",
       "      <td>Bulls In A Bear Market: These 10 Stocks Clocke...</td>\n",
       "      <td>https://www.benzinga.com/analyst-ratings/analy...</td>\n",
       "      <td>20221231T161114</td>\n",
       "      <td>[Shanthi Rexaline]</td>\n",
       "      <td>2022 would go down as one of the worst years f...</td>\n",
       "      <td>https://cdn.benzinga.com/files/images/story/20...</td>\n",
       "      <td>Benzinga</td>\n",
       "      <td>General</td>\n",
       "      <td>www.benzinga.com</td>\n",
       "      <td>[{'topic': 'Life Sciences', 'relevance_score':...</td>\n",
       "      <td>0.064077</td>\n",
       "      <td>Neutral</td>\n",
       "      <td>[{'ticker': 'AAPL', 'relevance_score': '0.1137...</td>\n",
       "      <td>20221231</td>\n",
       "    </tr>\n",
       "  </tbody>\n",
       "</table>\n",
       "</div>"
      ],
      "text/plain": [
       "                                               title  \\\n",
       "0  Apple, AMC, Meta, And How Elon Musk Is Reactin...   \n",
       "1  Bulls In A Bear Market: These 10 Stocks Clocke...   \n",
       "\n",
       "                                                 url   time_published  \\\n",
       "0  https://www.benzinga.com/news/large-cap/22/12/...  20221231T190310   \n",
       "1  https://www.benzinga.com/analyst-ratings/analy...  20221231T161114   \n",
       "\n",
       "              authors                                            summary  \\\n",
       "0     [Michael Cohen]  Benzinga examined the prospects for many inves...   \n",
       "1  [Shanthi Rexaline]  2022 would go down as one of the worst years f...   \n",
       "\n",
       "                                        banner_image    source  \\\n",
       "0  https://cdn.benzinga.com/files/images/story/20...  Benzinga   \n",
       "1  https://cdn.benzinga.com/files/images/story/20...  Benzinga   \n",
       "\n",
       "  category_within_source     source_domain  \\\n",
       "0                Trading  www.benzinga.com   \n",
       "1                General  www.benzinga.com   \n",
       "\n",
       "                                              topics  overall_sentiment_score  \\\n",
       "0  [{'topic': 'Financial Markets', 'relevance_sco...                -0.079733   \n",
       "1  [{'topic': 'Life Sciences', 'relevance_score':...                 0.064077   \n",
       "\n",
       "  overall_sentiment_label                                   ticker_sentiment  \\\n",
       "0                 Neutral  [{'ticker': 'MSTR', 'relevance_score': '0.2478...   \n",
       "1                 Neutral  [{'ticker': 'AAPL', 'relevance_score': '0.1137...   \n",
       "\n",
       "       date  \n",
       "0  20221231  \n",
       "1  20221231  "
      ]
     },
     "execution_count": 4,
     "metadata": {},
     "output_type": "execute_result"
    }
   ],
   "source": [
    "news_data.head(2)"
   ]
  },
  {
   "cell_type": "markdown",
   "metadata": {},
   "source": [
    "# Load Stock Data - To create Ground truth label for training"
   ]
  },
  {
   "cell_type": "code",
   "execution_count": 5,
   "metadata": {
    "tags": []
   },
   "outputs": [],
   "source": [
    "stock_data = pd.read_csv(f\"{data_base_dir}/stock_data.csv\")"
   ]
  },
  {
   "cell_type": "code",
   "execution_count": 6,
   "metadata": {
    "tags": []
   },
   "outputs": [
    {
     "data": {
      "text/html": [
       "<div>\n",
       "<style scoped>\n",
       "    .dataframe tbody tr th:only-of-type {\n",
       "        vertical-align: middle;\n",
       "    }\n",
       "\n",
       "    .dataframe tbody tr th {\n",
       "        vertical-align: top;\n",
       "    }\n",
       "\n",
       "    .dataframe thead th {\n",
       "        text-align: right;\n",
       "    }\n",
       "</style>\n",
       "<table border=\"1\" class=\"dataframe\">\n",
       "  <thead>\n",
       "    <tr style=\"text-align: right;\">\n",
       "      <th></th>\n",
       "      <th>Date</th>\n",
       "      <th>Open</th>\n",
       "      <th>High</th>\n",
       "      <th>Low</th>\n",
       "      <th>Close</th>\n",
       "      <th>Adj Close</th>\n",
       "      <th>Volume</th>\n",
       "    </tr>\n",
       "  </thead>\n",
       "  <tbody>\n",
       "    <tr>\n",
       "      <th>0</th>\n",
       "      <td>2019-03-22</td>\n",
       "      <td>2859.5</td>\n",
       "      <td>2864.75</td>\n",
       "      <td>2805.25</td>\n",
       "      <td>2810.75</td>\n",
       "      <td>2810.75</td>\n",
       "      <td>2254842</td>\n",
       "    </tr>\n",
       "    <tr>\n",
       "      <th>1</th>\n",
       "      <td>2019-03-25</td>\n",
       "      <td>2813.0</td>\n",
       "      <td>2818.50</td>\n",
       "      <td>2789.50</td>\n",
       "      <td>2807.00</td>\n",
       "      <td>2807.00</td>\n",
       "      <td>1801326</td>\n",
       "    </tr>\n",
       "    <tr>\n",
       "      <th>2</th>\n",
       "      <td>2019-03-26</td>\n",
       "      <td>2808.5</td>\n",
       "      <td>2835.00</td>\n",
       "      <td>2806.00</td>\n",
       "      <td>2823.00</td>\n",
       "      <td>2823.00</td>\n",
       "      <td>1461068</td>\n",
       "    </tr>\n",
       "    <tr>\n",
       "      <th>3</th>\n",
       "      <td>2019-03-27</td>\n",
       "      <td>2823.5</td>\n",
       "      <td>2831.75</td>\n",
       "      <td>2791.75</td>\n",
       "      <td>2810.50</td>\n",
       "      <td>2810.50</td>\n",
       "      <td>1726746</td>\n",
       "    </tr>\n",
       "    <tr>\n",
       "      <th>4</th>\n",
       "      <td>2019-03-28</td>\n",
       "      <td>2807.0</td>\n",
       "      <td>2824.25</td>\n",
       "      <td>2795.00</td>\n",
       "      <td>2821.00</td>\n",
       "      <td>2821.00</td>\n",
       "      <td>1185882</td>\n",
       "    </tr>\n",
       "  </tbody>\n",
       "</table>\n",
       "</div>"
      ],
      "text/plain": [
       "         Date    Open     High      Low    Close  Adj Close   Volume\n",
       "0  2019-03-22  2859.5  2864.75  2805.25  2810.75    2810.75  2254842\n",
       "1  2019-03-25  2813.0  2818.50  2789.50  2807.00    2807.00  1801326\n",
       "2  2019-03-26  2808.5  2835.00  2806.00  2823.00    2823.00  1461068\n",
       "3  2019-03-27  2823.5  2831.75  2791.75  2810.50    2810.50  1726746\n",
       "4  2019-03-28  2807.0  2824.25  2795.00  2821.00    2821.00  1185882"
      ]
     },
     "execution_count": 6,
     "metadata": {},
     "output_type": "execute_result"
    }
   ],
   "source": [
    "stock_data.head()"
   ]
  },
  {
   "cell_type": "code",
   "execution_count": 7,
   "metadata": {
    "tags": []
   },
   "outputs": [],
   "source": [
    "stock_data.sort_values(by = 'Date', inplace=True)"
   ]
  },
  {
   "cell_type": "code",
   "execution_count": 8,
   "metadata": {
    "tags": []
   },
   "outputs": [],
   "source": [
    "stock_data['label'] = (stock_data['Close'] < stock_data['Close'].shift(-1)).astype(int)"
   ]
  },
  {
   "cell_type": "code",
   "execution_count": 9,
   "metadata": {
    "tags": []
   },
   "outputs": [
    {
     "data": {
      "text/html": [
       "<div>\n",
       "<style scoped>\n",
       "    .dataframe tbody tr th:only-of-type {\n",
       "        vertical-align: middle;\n",
       "    }\n",
       "\n",
       "    .dataframe tbody tr th {\n",
       "        vertical-align: top;\n",
       "    }\n",
       "\n",
       "    .dataframe thead th {\n",
       "        text-align: right;\n",
       "    }\n",
       "</style>\n",
       "<table border=\"1\" class=\"dataframe\">\n",
       "  <thead>\n",
       "    <tr style=\"text-align: right;\">\n",
       "      <th></th>\n",
       "      <th>Date</th>\n",
       "      <th>Open</th>\n",
       "      <th>High</th>\n",
       "      <th>Low</th>\n",
       "      <th>Close</th>\n",
       "      <th>Adj Close</th>\n",
       "      <th>Volume</th>\n",
       "      <th>label</th>\n",
       "    </tr>\n",
       "  </thead>\n",
       "  <tbody>\n",
       "    <tr>\n",
       "      <th>0</th>\n",
       "      <td>2019-03-22</td>\n",
       "      <td>2859.5</td>\n",
       "      <td>2864.75</td>\n",
       "      <td>2805.25</td>\n",
       "      <td>2810.75</td>\n",
       "      <td>2810.75</td>\n",
       "      <td>2254842</td>\n",
       "      <td>0</td>\n",
       "    </tr>\n",
       "    <tr>\n",
       "      <th>1</th>\n",
       "      <td>2019-03-25</td>\n",
       "      <td>2813.0</td>\n",
       "      <td>2818.50</td>\n",
       "      <td>2789.50</td>\n",
       "      <td>2807.00</td>\n",
       "      <td>2807.00</td>\n",
       "      <td>1801326</td>\n",
       "      <td>1</td>\n",
       "    </tr>\n",
       "    <tr>\n",
       "      <th>2</th>\n",
       "      <td>2019-03-26</td>\n",
       "      <td>2808.5</td>\n",
       "      <td>2835.00</td>\n",
       "      <td>2806.00</td>\n",
       "      <td>2823.00</td>\n",
       "      <td>2823.00</td>\n",
       "      <td>1461068</td>\n",
       "      <td>0</td>\n",
       "    </tr>\n",
       "    <tr>\n",
       "      <th>3</th>\n",
       "      <td>2019-03-27</td>\n",
       "      <td>2823.5</td>\n",
       "      <td>2831.75</td>\n",
       "      <td>2791.75</td>\n",
       "      <td>2810.50</td>\n",
       "      <td>2810.50</td>\n",
       "      <td>1726746</td>\n",
       "      <td>1</td>\n",
       "    </tr>\n",
       "    <tr>\n",
       "      <th>4</th>\n",
       "      <td>2019-03-28</td>\n",
       "      <td>2807.0</td>\n",
       "      <td>2824.25</td>\n",
       "      <td>2795.00</td>\n",
       "      <td>2821.00</td>\n",
       "      <td>2821.00</td>\n",
       "      <td>1185882</td>\n",
       "      <td>1</td>\n",
       "    </tr>\n",
       "  </tbody>\n",
       "</table>\n",
       "</div>"
      ],
      "text/plain": [
       "         Date    Open     High      Low    Close  Adj Close   Volume  label\n",
       "0  2019-03-22  2859.5  2864.75  2805.25  2810.75    2810.75  2254842      0\n",
       "1  2019-03-25  2813.0  2818.50  2789.50  2807.00    2807.00  1801326      1\n",
       "2  2019-03-26  2808.5  2835.00  2806.00  2823.00    2823.00  1461068      0\n",
       "3  2019-03-27  2823.5  2831.75  2791.75  2810.50    2810.50  1726746      1\n",
       "4  2019-03-28  2807.0  2824.25  2795.00  2821.00    2821.00  1185882      1"
      ]
     },
     "execution_count": 9,
     "metadata": {},
     "output_type": "execute_result"
    }
   ],
   "source": [
    "stock_data.head()"
   ]
  },
  {
   "cell_type": "markdown",
   "metadata": {
    "tags": []
   },
   "source": [
    "# Group the News Data - Based On Date"
   ]
  },
  {
   "cell_type": "code",
   "execution_count": 10,
   "metadata": {
    "tags": []
   },
   "outputs": [],
   "source": [
    "news_data.sort_values(by = 'time_published', inplace=True)"
   ]
  },
  {
   "cell_type": "code",
   "execution_count": 11,
   "metadata": {
    "tags": []
   },
   "outputs": [],
   "source": [
    "news_data = news_data[['date', 'title', 'summary']]"
   ]
  },
  {
   "cell_type": "code",
   "execution_count": 12,
   "metadata": {
    "tags": []
   },
   "outputs": [
    {
     "data": {
      "text/html": [
       "<div>\n",
       "<style scoped>\n",
       "    .dataframe tbody tr th:only-of-type {\n",
       "        vertical-align: middle;\n",
       "    }\n",
       "\n",
       "    .dataframe tbody tr th {\n",
       "        vertical-align: top;\n",
       "    }\n",
       "\n",
       "    .dataframe thead th {\n",
       "        text-align: right;\n",
       "    }\n",
       "</style>\n",
       "<table border=\"1\" class=\"dataframe\">\n",
       "  <thead>\n",
       "    <tr style=\"text-align: right;\">\n",
       "      <th></th>\n",
       "      <th>date</th>\n",
       "      <th>title</th>\n",
       "      <th>summary</th>\n",
       "    </tr>\n",
       "  </thead>\n",
       "  <tbody>\n",
       "    <tr>\n",
       "      <th>6211</th>\n",
       "      <td>20220512</td>\n",
       "      <td>Pharma ETFs in Focus Post Q1 Earnings</td>\n",
       "      <td>Many industry bigwigs reported solid results w...</td>\n",
       "    </tr>\n",
       "    <tr>\n",
       "      <th>6210</th>\n",
       "      <td>20220519</td>\n",
       "      <td>4 Large Drug Stocks to Watch as the Industry R...</td>\n",
       "      <td>Drug/biotech companies are likely to see signi...</td>\n",
       "    </tr>\n",
       "    <tr>\n",
       "      <th>6209</th>\n",
       "      <td>20220520</td>\n",
       "      <td>Zacks Industry Outlook Highlights Eli Lilly, N...</td>\n",
       "      <td>Eli Lilly, Novo Nordisk, Merck, and Glaxo are ...</td>\n",
       "    </tr>\n",
       "    <tr>\n",
       "      <th>6208</th>\n",
       "      <td>20220523</td>\n",
       "      <td>Stocks making the biggest moves midday: JPMorg...</td>\n",
       "      <td>These are the stocks posting the largest moves...</td>\n",
       "    </tr>\n",
       "    <tr>\n",
       "      <th>6207</th>\n",
       "      <td>20220711</td>\n",
       "      <td>3 Red-Hot Dividends In A Down Market</td>\n",
       "      <td>It's not easy to be upbeat in a bear market...</td>\n",
       "    </tr>\n",
       "  </tbody>\n",
       "</table>\n",
       "</div>"
      ],
      "text/plain": [
       "          date                                              title  \\\n",
       "6211  20220512              Pharma ETFs in Focus Post Q1 Earnings   \n",
       "6210  20220519  4 Large Drug Stocks to Watch as the Industry R...   \n",
       "6209  20220520  Zacks Industry Outlook Highlights Eli Lilly, N...   \n",
       "6208  20220523  Stocks making the biggest moves midday: JPMorg...   \n",
       "6207  20220711               3 Red-Hot Dividends In A Down Market   \n",
       "\n",
       "                                                summary  \n",
       "6211  Many industry bigwigs reported solid results w...  \n",
       "6210  Drug/biotech companies are likely to see signi...  \n",
       "6209  Eli Lilly, Novo Nordisk, Merck, and Glaxo are ...  \n",
       "6208  These are the stocks posting the largest moves...  \n",
       "6207     It's not easy to be upbeat in a bear market...  "
      ]
     },
     "execution_count": 12,
     "metadata": {},
     "output_type": "execute_result"
    }
   ],
   "source": [
    "news_data.head()"
   ]
  },
  {
   "cell_type": "code",
   "execution_count": 13,
   "metadata": {
    "tags": []
   },
   "outputs": [],
   "source": [
    "news_data['title'] = news_data['title']\n",
    "news_data['summary'] = news_data['summary'] + ' \\n\\n'"
   ]
  },
  {
   "cell_type": "code",
   "execution_count": 14,
   "metadata": {
    "tags": []
   },
   "outputs": [],
   "source": [
    "news_data['cumulative_title'] = news_data.groupby('date')['title'].transform(lambda x: x.cumsum())\n",
    "news_data['cumulative_summary'] = news_data.groupby('date')['summary'].transform(lambda x: x.cumsum())"
   ]
  },
  {
   "cell_type": "code",
   "execution_count": 18,
   "metadata": {
    "tags": []
   },
   "outputs": [
    {
     "data": {
      "text/html": [
       "<div>\n",
       "<style scoped>\n",
       "    .dataframe tbody tr th:only-of-type {\n",
       "        vertical-align: middle;\n",
       "    }\n",
       "\n",
       "    .dataframe tbody tr th {\n",
       "        vertical-align: top;\n",
       "    }\n",
       "\n",
       "    .dataframe thead th {\n",
       "        text-align: right;\n",
       "    }\n",
       "</style>\n",
       "<table border=\"1\" class=\"dataframe\">\n",
       "  <thead>\n",
       "    <tr style=\"text-align: right;\">\n",
       "      <th></th>\n",
       "      <th>date</th>\n",
       "      <th>title</th>\n",
       "      <th>summary</th>\n",
       "      <th>cumulative_title</th>\n",
       "      <th>cumulative_summary</th>\n",
       "    </tr>\n",
       "  </thead>\n",
       "  <tbody>\n",
       "    <tr>\n",
       "      <th>6211</th>\n",
       "      <td>20220512</td>\n",
       "      <td>Pharma ETFs in Focus Post Q1 Earnings</td>\n",
       "      <td>Many industry bigwigs reported solid results w...</td>\n",
       "      <td>Pharma ETFs in Focus Post Q1 Earnings</td>\n",
       "      <td>Many industry bigwigs reported solid results w...</td>\n",
       "    </tr>\n",
       "    <tr>\n",
       "      <th>6210</th>\n",
       "      <td>20220519</td>\n",
       "      <td>4 Large Drug Stocks to Watch as the Industry R...</td>\n",
       "      <td>Drug/biotech companies are likely to see signi...</td>\n",
       "      <td>4 Large Drug Stocks to Watch as the Industry R...</td>\n",
       "      <td>Drug/biotech companies are likely to see signi...</td>\n",
       "    </tr>\n",
       "    <tr>\n",
       "      <th>6209</th>\n",
       "      <td>20220520</td>\n",
       "      <td>Zacks Industry Outlook Highlights Eli Lilly, N...</td>\n",
       "      <td>Eli Lilly, Novo Nordisk, Merck, and Glaxo are ...</td>\n",
       "      <td>Zacks Industry Outlook Highlights Eli Lilly, N...</td>\n",
       "      <td>Eli Lilly, Novo Nordisk, Merck, and Glaxo are ...</td>\n",
       "    </tr>\n",
       "    <tr>\n",
       "      <th>6208</th>\n",
       "      <td>20220523</td>\n",
       "      <td>Stocks making the biggest moves midday: JPMorg...</td>\n",
       "      <td>These are the stocks posting the largest moves...</td>\n",
       "      <td>Stocks making the biggest moves midday: JPMorg...</td>\n",
       "      <td>These are the stocks posting the largest moves...</td>\n",
       "    </tr>\n",
       "    <tr>\n",
       "      <th>6207</th>\n",
       "      <td>20220711</td>\n",
       "      <td>3 Red-Hot Dividends In A Down Market</td>\n",
       "      <td>It's not easy to be upbeat in a bear market......</td>\n",
       "      <td>3 Red-Hot Dividends In A Down Market</td>\n",
       "      <td>It's not easy to be upbeat in a bear market......</td>\n",
       "    </tr>\n",
       "    <tr>\n",
       "      <th>...</th>\n",
       "      <td>...</td>\n",
       "      <td>...</td>\n",
       "      <td>...</td>\n",
       "      <td>...</td>\n",
       "      <td>...</td>\n",
       "    </tr>\n",
       "    <tr>\n",
       "      <th>17393</th>\n",
       "      <td>20240322</td>\n",
       "      <td>Dell, TJX And 2 Other Stocks Insiders Are Sell...</td>\n",
       "      <td>The Nasdaq 100 closed higher by around 80 poin...</td>\n",
       "      <td>CHEMOURS INVESTOR NEWS: ROSEN, TOP RANKED INVE...</td>\n",
       "      <td>NEW YORK, March 21, 2024 ( GLOBE NEWSWIRE ) --...</td>\n",
       "    </tr>\n",
       "    <tr>\n",
       "      <th>17392</th>\n",
       "      <td>20240322</td>\n",
       "      <td>Tesla Bull Ross Gerber Says DOJ's Apple Lawsui...</td>\n",
       "      <td>Tesla Inc. bull Ross Gerber has questioned the...</td>\n",
       "      <td>CHEMOURS INVESTOR NEWS: ROSEN, TOP RANKED INVE...</td>\n",
       "      <td>NEW YORK, March 21, 2024 ( GLOBE NEWSWIRE ) --...</td>\n",
       "    </tr>\n",
       "    <tr>\n",
       "      <th>13888</th>\n",
       "      <td>20240322</td>\n",
       "      <td>Tesla Bull Ross Gerber Says DOJ's Apple Lawsui...</td>\n",
       "      <td>Tesla Inc. bull Ross Gerber has questioned the...</td>\n",
       "      <td>CHEMOURS INVESTOR NEWS: ROSEN, TOP RANKED INVE...</td>\n",
       "      <td>NEW YORK, March 21, 2024 ( GLOBE NEWSWIRE ) --...</td>\n",
       "    </tr>\n",
       "    <tr>\n",
       "      <th>14574</th>\n",
       "      <td>20240322</td>\n",
       "      <td>Tesla Bull Ross Gerber Says DOJ's Apple Lawsui...</td>\n",
       "      <td>Tesla Inc. bull Ross Gerber has questioned the...</td>\n",
       "      <td>CHEMOURS INVESTOR NEWS: ROSEN, TOP RANKED INVE...</td>\n",
       "      <td>NEW YORK, March 21, 2024 ( GLOBE NEWSWIRE ) --...</td>\n",
       "    </tr>\n",
       "    <tr>\n",
       "      <th>16701</th>\n",
       "      <td>20240322</td>\n",
       "      <td>Tesla Bull Ross Gerber Says DOJ's Apple Lawsui...</td>\n",
       "      <td>Tesla Inc. bull Ross Gerber has questioned the...</td>\n",
       "      <td>CHEMOURS INVESTOR NEWS: ROSEN, TOP RANKED INVE...</td>\n",
       "      <td>NEW YORK, March 21, 2024 ( GLOBE NEWSWIRE ) --...</td>\n",
       "    </tr>\n",
       "  </tbody>\n",
       "</table>\n",
       "<p>20384 rows × 5 columns</p>\n",
       "</div>"
      ],
      "text/plain": [
       "           date                                              title  \\\n",
       "6211   20220512              Pharma ETFs in Focus Post Q1 Earnings   \n",
       "6210   20220519  4 Large Drug Stocks to Watch as the Industry R...   \n",
       "6209   20220520  Zacks Industry Outlook Highlights Eli Lilly, N...   \n",
       "6208   20220523  Stocks making the biggest moves midday: JPMorg...   \n",
       "6207   20220711               3 Red-Hot Dividends In A Down Market   \n",
       "...         ...                                                ...   \n",
       "17393  20240322  Dell, TJX And 2 Other Stocks Insiders Are Sell...   \n",
       "17392  20240322  Tesla Bull Ross Gerber Says DOJ's Apple Lawsui...   \n",
       "13888  20240322  Tesla Bull Ross Gerber Says DOJ's Apple Lawsui...   \n",
       "14574  20240322  Tesla Bull Ross Gerber Says DOJ's Apple Lawsui...   \n",
       "16701  20240322  Tesla Bull Ross Gerber Says DOJ's Apple Lawsui...   \n",
       "\n",
       "                                                 summary  \\\n",
       "6211   Many industry bigwigs reported solid results w...   \n",
       "6210   Drug/biotech companies are likely to see signi...   \n",
       "6209   Eli Lilly, Novo Nordisk, Merck, and Glaxo are ...   \n",
       "6208   These are the stocks posting the largest moves...   \n",
       "6207   It's not easy to be upbeat in a bear market......   \n",
       "...                                                  ...   \n",
       "17393  The Nasdaq 100 closed higher by around 80 poin...   \n",
       "17392  Tesla Inc. bull Ross Gerber has questioned the...   \n",
       "13888  Tesla Inc. bull Ross Gerber has questioned the...   \n",
       "14574  Tesla Inc. bull Ross Gerber has questioned the...   \n",
       "16701  Tesla Inc. bull Ross Gerber has questioned the...   \n",
       "\n",
       "                                        cumulative_title  \\\n",
       "6211               Pharma ETFs in Focus Post Q1 Earnings   \n",
       "6210   4 Large Drug Stocks to Watch as the Industry R...   \n",
       "6209   Zacks Industry Outlook Highlights Eli Lilly, N...   \n",
       "6208   Stocks making the biggest moves midday: JPMorg...   \n",
       "6207                3 Red-Hot Dividends In A Down Market   \n",
       "...                                                  ...   \n",
       "17393  CHEMOURS INVESTOR NEWS: ROSEN, TOP RANKED INVE...   \n",
       "17392  CHEMOURS INVESTOR NEWS: ROSEN, TOP RANKED INVE...   \n",
       "13888  CHEMOURS INVESTOR NEWS: ROSEN, TOP RANKED INVE...   \n",
       "14574  CHEMOURS INVESTOR NEWS: ROSEN, TOP RANKED INVE...   \n",
       "16701  CHEMOURS INVESTOR NEWS: ROSEN, TOP RANKED INVE...   \n",
       "\n",
       "                                      cumulative_summary  \n",
       "6211   Many industry bigwigs reported solid results w...  \n",
       "6210   Drug/biotech companies are likely to see signi...  \n",
       "6209   Eli Lilly, Novo Nordisk, Merck, and Glaxo are ...  \n",
       "6208   These are the stocks posting the largest moves...  \n",
       "6207   It's not easy to be upbeat in a bear market......  \n",
       "...                                                  ...  \n",
       "17393  NEW YORK, March 21, 2024 ( GLOBE NEWSWIRE ) --...  \n",
       "17392  NEW YORK, March 21, 2024 ( GLOBE NEWSWIRE ) --...  \n",
       "13888  NEW YORK, March 21, 2024 ( GLOBE NEWSWIRE ) --...  \n",
       "14574  NEW YORK, March 21, 2024 ( GLOBE NEWSWIRE ) --...  \n",
       "16701  NEW YORK, March 21, 2024 ( GLOBE NEWSWIRE ) --...  \n",
       "\n",
       "[20384 rows x 5 columns]"
      ]
     },
     "execution_count": 18,
     "metadata": {},
     "output_type": "execute_result"
    }
   ],
   "source": [
    "news_data"
   ]
  },
  {
   "cell_type": "markdown",
   "metadata": {},
   "source": [
    "# Load Text embedding model"
   ]
  },
  {
   "cell_type": "code",
   "execution_count": null,
   "metadata": {
    "tags": []
   },
   "outputs": [],
   "source": [
    "from sentence_transformers import SentenceTransformer\n",
    "from tqdm import tqdm\n",
    "\n",
    "checkpoint = 'sentence-transformers/paraphrase-TinyBERT-L6-v2' # 'sentence-transformers/all-MiniLM-L6-v2'\n",
    "\n",
    "model = SentenceTransformer(checkpoint)"
   ]
  },
  {
   "cell_type": "code",
   "execution_count": 20,
   "metadata": {
    "tags": []
   },
   "outputs": [],
   "source": [
    "def generate_embedding(x):\n",
    "    return model.encode(x)"
   ]
  },
  {
   "cell_type": "code",
   "execution_count": 21,
   "metadata": {
    "tags": []
   },
   "outputs": [
    {
     "name": "stderr",
     "output_type": "stream",
     "text": [
      "100%|█████████████████████████████████████| 20384/20384 [06:46<00:00, 50.10it/s]\n",
      "100%|█████████████████████████████████████| 20384/20384 [08:02<00:00, 42.21it/s]\n"
     ]
    }
   ],
   "source": [
    "tqdm.pandas()\n",
    "\n",
    "news_data['cumulative_title_emb'] = news_data['cumulative_title'].progress_apply(generate_embedding)\n",
    "news_data['cumulative_summary_emb'] = news_data['cumulative_summary'].progress_apply(generate_embedding)"
   ]
  },
  {
   "cell_type": "markdown",
   "metadata": {},
   "source": [
    "# Merge News Data and Stock Data - Based on Date"
   ]
  },
  {
   "cell_type": "code",
   "execution_count": 25,
   "metadata": {
    "tags": []
   },
   "outputs": [],
   "source": [
    "news_data['Date'] = news_data['date'].apply(lambda x : x[:4] + '-' + x[4:6] + '-' + x[6:])\n",
    "news_data.drop(columns = ['date'], inplace =True)"
   ]
  },
  {
   "cell_type": "code",
   "execution_count": 26,
   "metadata": {
    "tags": []
   },
   "outputs": [
    {
     "data": {
      "text/html": [
       "<div>\n",
       "<style scoped>\n",
       "    .dataframe tbody tr th:only-of-type {\n",
       "        vertical-align: middle;\n",
       "    }\n",
       "\n",
       "    .dataframe tbody tr th {\n",
       "        vertical-align: top;\n",
       "    }\n",
       "\n",
       "    .dataframe thead th {\n",
       "        text-align: right;\n",
       "    }\n",
       "</style>\n",
       "<table border=\"1\" class=\"dataframe\">\n",
       "  <thead>\n",
       "    <tr style=\"text-align: right;\">\n",
       "      <th></th>\n",
       "      <th>title</th>\n",
       "      <th>summary</th>\n",
       "      <th>cumulative_title</th>\n",
       "      <th>cumulative_summary</th>\n",
       "      <th>cumulative_title_emb</th>\n",
       "      <th>cumulative_summary_emb</th>\n",
       "      <th>Date</th>\n",
       "    </tr>\n",
       "  </thead>\n",
       "  <tbody>\n",
       "    <tr>\n",
       "      <th>6211</th>\n",
       "      <td>Pharma ETFs in Focus Post Q1 Earnings</td>\n",
       "      <td>Many industry bigwigs reported solid results w...</td>\n",
       "      <td>Pharma ETFs in Focus Post Q1 Earnings</td>\n",
       "      <td>Many industry bigwigs reported solid results w...</td>\n",
       "      <td>[-0.18760552, 0.25935495, -0.050723966, -0.092...</td>\n",
       "      <td>[0.110145286, 0.3496942, 0.24096532, 0.1784440...</td>\n",
       "      <td>2022-05-12</td>\n",
       "    </tr>\n",
       "    <tr>\n",
       "      <th>6210</th>\n",
       "      <td>4 Large Drug Stocks to Watch as the Industry R...</td>\n",
       "      <td>Drug/biotech companies are likely to see signi...</td>\n",
       "      <td>4 Large Drug Stocks to Watch as the Industry R...</td>\n",
       "      <td>Drug/biotech companies are likely to see signi...</td>\n",
       "      <td>[-0.145372, -0.0041549024, 0.06780252, -0.0711...</td>\n",
       "      <td>[-0.11769274, -0.086127214, 0.040418006, -0.13...</td>\n",
       "      <td>2022-05-19</td>\n",
       "    </tr>\n",
       "    <tr>\n",
       "      <th>6209</th>\n",
       "      <td>Zacks Industry Outlook Highlights Eli Lilly, N...</td>\n",
       "      <td>Eli Lilly, Novo Nordisk, Merck, and Glaxo are ...</td>\n",
       "      <td>Zacks Industry Outlook Highlights Eli Lilly, N...</td>\n",
       "      <td>Eli Lilly, Novo Nordisk, Merck, and Glaxo are ...</td>\n",
       "      <td>[0.2105611, 0.10151193, -0.11327079, 0.1774636...</td>\n",
       "      <td>[0.16020752, 0.07496309, -0.043075092, 0.19859...</td>\n",
       "      <td>2022-05-20</td>\n",
       "    </tr>\n",
       "    <tr>\n",
       "      <th>6208</th>\n",
       "      <td>Stocks making the biggest moves midday: JPMorg...</td>\n",
       "      <td>These are the stocks posting the largest moves...</td>\n",
       "      <td>Stocks making the biggest moves midday: JPMorg...</td>\n",
       "      <td>These are the stocks posting the largest moves...</td>\n",
       "      <td>[-0.015674531, 0.0131594855, 0.2657702, 0.1695...</td>\n",
       "      <td>[-0.0655723, -0.47901604, 0.3199635, 0.0668567...</td>\n",
       "      <td>2022-05-23</td>\n",
       "    </tr>\n",
       "    <tr>\n",
       "      <th>6207</th>\n",
       "      <td>3 Red-Hot Dividends In A Down Market</td>\n",
       "      <td>It's not easy to be upbeat in a bear market......</td>\n",
       "      <td>3 Red-Hot Dividends In A Down Market</td>\n",
       "      <td>It's not easy to be upbeat in a bear market......</td>\n",
       "      <td>[0.09879005, 0.13978297, 0.52456844, -0.058282...</td>\n",
       "      <td>[0.03242542, -0.2530861, 0.41749194, -0.197073...</td>\n",
       "      <td>2022-07-11</td>\n",
       "    </tr>\n",
       "  </tbody>\n",
       "</table>\n",
       "</div>"
      ],
      "text/plain": [
       "                                                  title  \\\n",
       "6211              Pharma ETFs in Focus Post Q1 Earnings   \n",
       "6210  4 Large Drug Stocks to Watch as the Industry R...   \n",
       "6209  Zacks Industry Outlook Highlights Eli Lilly, N...   \n",
       "6208  Stocks making the biggest moves midday: JPMorg...   \n",
       "6207               3 Red-Hot Dividends In A Down Market   \n",
       "\n",
       "                                                summary  \\\n",
       "6211  Many industry bigwigs reported solid results w...   \n",
       "6210  Drug/biotech companies are likely to see signi...   \n",
       "6209  Eli Lilly, Novo Nordisk, Merck, and Glaxo are ...   \n",
       "6208  These are the stocks posting the largest moves...   \n",
       "6207  It's not easy to be upbeat in a bear market......   \n",
       "\n",
       "                                       cumulative_title  \\\n",
       "6211              Pharma ETFs in Focus Post Q1 Earnings   \n",
       "6210  4 Large Drug Stocks to Watch as the Industry R...   \n",
       "6209  Zacks Industry Outlook Highlights Eli Lilly, N...   \n",
       "6208  Stocks making the biggest moves midday: JPMorg...   \n",
       "6207               3 Red-Hot Dividends In A Down Market   \n",
       "\n",
       "                                     cumulative_summary  \\\n",
       "6211  Many industry bigwigs reported solid results w...   \n",
       "6210  Drug/biotech companies are likely to see signi...   \n",
       "6209  Eli Lilly, Novo Nordisk, Merck, and Glaxo are ...   \n",
       "6208  These are the stocks posting the largest moves...   \n",
       "6207  It's not easy to be upbeat in a bear market......   \n",
       "\n",
       "                                   cumulative_title_emb  \\\n",
       "6211  [-0.18760552, 0.25935495, -0.050723966, -0.092...   \n",
       "6210  [-0.145372, -0.0041549024, 0.06780252, -0.0711...   \n",
       "6209  [0.2105611, 0.10151193, -0.11327079, 0.1774636...   \n",
       "6208  [-0.015674531, 0.0131594855, 0.2657702, 0.1695...   \n",
       "6207  [0.09879005, 0.13978297, 0.52456844, -0.058282...   \n",
       "\n",
       "                                 cumulative_summary_emb        Date  \n",
       "6211  [0.110145286, 0.3496942, 0.24096532, 0.1784440...  2022-05-12  \n",
       "6210  [-0.11769274, -0.086127214, 0.040418006, -0.13...  2022-05-19  \n",
       "6209  [0.16020752, 0.07496309, -0.043075092, 0.19859...  2022-05-20  \n",
       "6208  [-0.0655723, -0.47901604, 0.3199635, 0.0668567...  2022-05-23  \n",
       "6207  [0.03242542, -0.2530861, 0.41749194, -0.197073...  2022-07-11  "
      ]
     },
     "execution_count": 26,
     "metadata": {},
     "output_type": "execute_result"
    }
   ],
   "source": [
    "news_data.head()"
   ]
  },
  {
   "cell_type": "code",
   "execution_count": 27,
   "metadata": {
    "tags": []
   },
   "outputs": [],
   "source": [
    "merged_df = pd.merge(news_data, stock_data, on = 'Date')"
   ]
  },
  {
   "cell_type": "code",
   "execution_count": 30,
   "metadata": {
    "tags": []
   },
   "outputs": [],
   "source": [
    "# Concatenate Features\n",
    "series1 = merged_df['cumulative_title_emb'].apply(lambda x: x.reshape(1, -1))\n",
    "series2 = merged_df['cumulative_summary_emb'].apply(lambda x: x.reshape(1, -1))\n",
    "\n",
    "concatenated_features = np.concatenate([np.concatenate(list(series1.values), axis = 0), np.concatenate(list(series2.values), axis = 0)], axis = 1)\n",
    "\n",
    "merged_df['features'] = list(concatenated_features)"
   ]
  },
  {
   "cell_type": "code",
   "execution_count": 32,
   "metadata": {
    "tags": []
   },
   "outputs": [],
   "source": [
    "final_df = merged_df[['features', 'Date', 'label']]"
   ]
  },
  {
   "cell_type": "markdown",
   "metadata": {},
   "source": [
    "# Training"
   ]
  },
  {
   "cell_type": "code",
   "execution_count": 113,
   "metadata": {
    "tags": []
   },
   "outputs": [],
   "source": [
    "from sklearn.ensemble import RandomForestClassifier\n",
    "from sklearn.metrics import accuracy_score, classification_report\n",
    "import pickle\n",
    "\n",
    "import torch\n",
    "import torch.nn as nn\n",
    "import torch.optim as optim"
   ]
  },
  {
   "cell_type": "code",
   "execution_count": 82,
   "metadata": {
    "tags": []
   },
   "outputs": [],
   "source": [
    "split_date = '2024-01-01'\n",
    "train_df = final_df[final_df['Date'] < split_date]\n",
    "test_df = final_df[final_df['Date'] >= split_date]"
   ]
  },
  {
   "cell_type": "code",
   "execution_count": 83,
   "metadata": {
    "tags": []
   },
   "outputs": [],
   "source": [
    "X_train = list(train_df['features'])\n",
    "y_train = train_df['label']\n",
    "X_test = list(test_df['features'])\n",
    "y_test = test_df['label']"
   ]
  },
  {
   "cell_type": "code",
   "execution_count": 84,
   "metadata": {
    "tags": []
   },
   "outputs": [],
   "source": [
    "X_train = np.array(X_train)\n",
    "X_test = np.array(X_test)"
   ]
  },
  {
   "cell_type": "code",
   "execution_count": 85,
   "metadata": {
    "tags": []
   },
   "outputs": [],
   "source": [
    "y_train = y_train.values\n",
    "y_test = y_test.values"
   ]
  },
  {
   "cell_type": "markdown",
   "metadata": {},
   "source": [
    "## Random Forest Classifier"
   ]
  },
  {
   "cell_type": "code",
   "execution_count": 118,
   "metadata": {
    "tags": []
   },
   "outputs": [
    {
     "name": "stdout",
     "output_type": "stream",
     "text": [
      "Accuracy: 0.7095205003474635\n",
      "Classification Report:\n",
      "              precision    recall  f1-score   support\n",
      "\n",
      "           0       0.61      0.75      0.67      2317\n",
      "           1       0.80      0.68      0.74      3439\n",
      "\n",
      "    accuracy                           0.71      5756\n",
      "   macro avg       0.71      0.72      0.71      5756\n",
      "weighted avg       0.73      0.71      0.71      5756\n",
      "\n"
     ]
    }
   ],
   "source": [
    "model = RandomForestClassifier(n_estimators=100, max_depth=5, random_state = 2024)\n",
    "\n",
    "# Train the model\n",
    "model.fit(X_train, y_train)\n",
    "\n",
    "# Make predictions\n",
    "y_pred = model.predict(X_test)\n",
    "\n",
    "# Evaluate model performance\n",
    "accuracy = accuracy_score(y_test, y_pred)\n",
    "print(\"Accuracy:\", accuracy)\n",
    "print(\"Classification Report:\")\n",
    "print(classification_report(y_test, y_pred))"
   ]
  },
  {
   "cell_type": "code",
   "execution_count": 119,
   "metadata": {
    "tags": []
   },
   "outputs": [],
   "source": [
    "model_base_dir = \"../model\"\n",
    "\n",
    "# Save the model using pickle\n",
    "with open(f\"{model_base_dir}/random_model.pkl\", \"wb\") as f:\n",
    "    pickle.dump(model, f)"
   ]
  },
  {
   "cell_type": "markdown",
   "metadata": {},
   "source": [
    "## Neural Network"
   ]
  },
  {
   "cell_type": "code",
   "execution_count": 120,
   "metadata": {
    "tags": []
   },
   "outputs": [],
   "source": [
    "class NN(nn.Module):\n",
    "    def __init__(self, input_size):\n",
    "        super(NN, self).__init__()\n",
    "        self.fc1 = nn.Linear(input_size, 512)\n",
    "        self.relu = nn.LeakyReLU()\n",
    "        self.fc2 = nn.Linear(512, 128)\n",
    "        self.fc3 = nn.Linear(128, 1)\n",
    "        self.dropout = nn.Dropout(0.2)\n",
    "\n",
    "    def forward(self, x):\n",
    "        out = self.fc1(x)\n",
    "        out = self.relu(out)\n",
    "        out = self.dropout(out)\n",
    "        out = self.fc2(out)\n",
    "        out = self.relu(out)\n",
    "        out = self.dropout(out)\n",
    "        out = self.fc3(out)\n",
    "        return out"
   ]
  },
  {
   "cell_type": "code",
   "execution_count": 121,
   "metadata": {
    "tags": []
   },
   "outputs": [],
   "source": [
    "input_size = 1536\n",
    "model = NN(input_size)\n",
    "criterion = nn.BCEWithLogitsLoss()  # Applies Sigmoid activation for calculating the loss\n",
    "optimizer = optim.Adam(model.parameters(), lr=4e-4)"
   ]
  },
  {
   "cell_type": "code",
   "execution_count": 122,
   "metadata": {
    "scrolled": true,
    "tags": []
   },
   "outputs": [
    {
     "name": "stdout",
     "output_type": "stream",
     "text": [
      "Epoch 1, Loss: 0.6936, Test Accuracy: 40.25%\n",
      "Epoch 2, Loss: 0.6822, Test Accuracy: 40.27%\n",
      "Epoch 3, Loss: 0.6715, Test Accuracy: 40.46%\n",
      "Epoch 4, Loss: 0.6597, Test Accuracy: 39.80%\n",
      "Epoch 5, Loss: 0.6461, Test Accuracy: 62.18%\n",
      "Epoch 6, Loss: 0.6308, Test Accuracy: 63.79%\n",
      "Epoch 7, Loss: 0.6133, Test Accuracy: 65.32%\n",
      "Epoch 8, Loss: 0.5931, Test Accuracy: 64.58%\n",
      "Epoch 9, Loss: 0.5712, Test Accuracy: 63.72%\n",
      "Epoch 10, Loss: 0.5466, Test Accuracy: 63.64%\n",
      "Epoch 11, Loss: 0.5196, Test Accuracy: 68.52%\n",
      "Epoch 12, Loss: 0.4912, Test Accuracy: 68.50%\n",
      "Epoch 13, Loss: 0.4625, Test Accuracy: 68.19%\n",
      "Epoch 14, Loss: 0.4320, Test Accuracy: 61.64%\n",
      "Epoch 15, Loss: 0.4022, Test Accuracy: 61.19%\n",
      "Epoch 16, Loss: 0.3728, Test Accuracy: 61.10%\n",
      "Epoch 17, Loss: 0.3444, Test Accuracy: 61.08%\n",
      "Epoch 18, Loss: 0.3185, Test Accuracy: 61.17%\n",
      "Epoch 19, Loss: 0.2926, Test Accuracy: 62.72%\n",
      "Epoch 20, Loss: 0.2704, Test Accuracy: 62.72%\n",
      "Epoch 21, Loss: 0.2488, Test Accuracy: 63.76%\n",
      "Epoch 22, Loss: 0.2292, Test Accuracy: 63.72%\n",
      "Epoch 23, Loss: 0.2122, Test Accuracy: 63.71%\n",
      "Epoch 24, Loss: 0.1963, Test Accuracy: 62.14%\n",
      "Epoch 25, Loss: 0.1800, Test Accuracy: 59.09%\n",
      "Epoch 26, Loss: 0.1669, Test Accuracy: 59.12%\n",
      "Epoch 27, Loss: 0.1552, Test Accuracy: 57.51%\n",
      "Epoch 28, Loss: 0.1436, Test Accuracy: 46.73%\n",
      "Epoch 29, Loss: 0.1341, Test Accuracy: 46.72%\n",
      "Epoch 30, Loss: 0.1236, Test Accuracy: 46.00%\n",
      "Epoch 31, Loss: 0.1152, Test Accuracy: 45.97%\n",
      "Epoch 32, Loss: 0.1080, Test Accuracy: 45.99%\n",
      "Epoch 33, Loss: 0.1019, Test Accuracy: 45.64%\n",
      "Epoch 34, Loss: 0.0952, Test Accuracy: 45.64%\n",
      "Epoch 35, Loss: 0.0896, Test Accuracy: 45.73%\n",
      "Epoch 36, Loss: 0.0844, Test Accuracy: 45.69%\n",
      "Epoch 37, Loss: 0.0808, Test Accuracy: 56.39%\n",
      "Epoch 38, Loss: 0.0749, Test Accuracy: 55.28%\n",
      "Epoch 39, Loss: 0.0707, Test Accuracy: 44.49%\n",
      "Epoch 40, Loss: 0.0668, Test Accuracy: 44.56%\n",
      "Epoch 41, Loss: 0.0634, Test Accuracy: 44.77%\n",
      "Epoch 42, Loss: 0.0611, Test Accuracy: 44.81%\n",
      "Epoch 43, Loss: 0.0575, Test Accuracy: 45.08%\n",
      "Epoch 44, Loss: 0.0542, Test Accuracy: 45.07%\n",
      "Epoch 45, Loss: 0.0513, Test Accuracy: 45.08%\n",
      "Epoch 46, Loss: 0.0486, Test Accuracy: 45.14%\n",
      "Epoch 47, Loss: 0.0459, Test Accuracy: 46.26%\n",
      "Epoch 48, Loss: 0.0440, Test Accuracy: 46.18%\n",
      "Epoch 49, Loss: 0.0412, Test Accuracy: 45.93%\n",
      "Epoch 50, Loss: 0.0385, Test Accuracy: 45.95%\n"
     ]
    }
   ],
   "source": [
    "X_train_tensor = torch.tensor(X_train, dtype=torch.float32)\n",
    "y_train_tensor = torch.tensor(y_train, dtype=torch.float32).unsqueeze(1)\n",
    "\n",
    "X_test_tensor = torch.tensor(X_test, dtype=torch.float32)\n",
    "y_test_tensor = torch.tensor(y_test, dtype=torch.float32).unsqueeze(1)\n",
    "\n",
    "num_epochs = 50\n",
    "\n",
    "for epoch in range(num_epochs):\n",
    "    \n",
    "    # Training\n",
    "    model.train()\n",
    "    inputs = torch.tensor(X_train, dtype=torch.float32)\n",
    "    labels = torch.tensor(y_train, dtype=torch.float32).unsqueeze(1)\n",
    "\n",
    "    outputs = model(inputs)\n",
    "    loss = criterion(outputs, labels)\n",
    "    optimizer.zero_grad()\n",
    "    loss.backward()\n",
    "    optimizer.step()\n",
    "    \n",
    "    # Validation\n",
    "    with torch.no_grad():\n",
    "        model.eval()\n",
    "        test_outputs = model(X_test_tensor)\n",
    "                \n",
    "        predicted = (torch.sigmoid(test_outputs) > 0.5).float()\n",
    "        correct = (predicted == y_test_tensor).sum().item()\n",
    "        test_accuracy = 100 * correct / y_test_tensor.size(0)\n",
    "    \n",
    "    print(f'Epoch {epoch+1}, Loss: {loss.item():.4f}, Test Accuracy: {test_accuracy:.2f}%')"
   ]
  },
  {
   "cell_type": "code",
   "execution_count": null,
   "metadata": {},
   "outputs": [],
   "source": []
  }
 ],
 "metadata": {
  "kernelspec": {
   "display_name": "trading",
   "language": "python",
   "name": "trading"
  },
  "language_info": {
   "codemirror_mode": {
    "name": "ipython",
    "version": 3
   },
   "file_extension": ".py",
   "mimetype": "text/x-python",
   "name": "python",
   "nbconvert_exporter": "python",
   "pygments_lexer": "ipython3",
   "version": "3.10.14"
  }
 },
 "nbformat": 4,
 "nbformat_minor": 4
}
